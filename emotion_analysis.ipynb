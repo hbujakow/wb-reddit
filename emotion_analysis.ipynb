{
 "cells": [
  {
   "cell_type": "markdown",
   "id": "7560b13a",
   "metadata": {},
   "source": [
    "# Analiza emocji"
   ]
  },
  {
   "cell_type": "code",
   "execution_count": 1,
   "id": "6106c164",
   "metadata": {},
   "outputs": [
    {
     "data": {
      "text/plain": [
       "[[{'label': 'anger', 'score': 0.004419785924255848},\n",
       "  {'label': 'disgust', 'score': 0.0016119909705594182},\n",
       "  {'label': 'fear', 'score': 0.0004138521908316761},\n",
       "  {'label': 'joy', 'score': 0.9771687984466553},\n",
       "  {'label': 'neutral', 'score': 0.0057645863853394985},\n",
       "  {'label': 'sadness', 'score': 0.002092392183840275},\n",
       "  {'label': 'surprise', 'score': 0.008528684265911579}]]"
      ]
     },
     "execution_count": 1,
     "metadata": {},
     "output_type": "execute_result"
    }
   ],
   "source": [
    "from transformers import pipeline\n",
    "classifier = pipeline(\"text-classification\", model=\"j-hartmann/emotion-english-distilroberta-base\", return_all_scores=True)\n",
    "classifier(\"I love this!\")"
   ]
  },
  {
   "cell_type": "markdown",
   "id": "aa937d32",
   "metadata": {},
   "source": [
    "Funkcja zwracająca przeważającą emocję"
   ]
  },
  {
   "cell_type": "code",
   "execution_count": 2,
   "id": "9ba610df",
   "metadata": {},
   "outputs": [],
   "source": [
    "from transformers import pipeline\n",
    "classifier = pipeline(\"text-classification\", model=\"j-hartmann/emotion-english-distilroberta-base\", return_all_scores=True)\n",
    "def find_emotion(text):\n",
    "    classes = classifier(text)\n",
    "    element_with_highest_score = max(classes[0], key=lambda x: x['score'])\n",
    "    return element_with_highest_score"
   ]
  },
  {
   "cell_type": "code",
   "execution_count": 5,
   "id": "0e4e79d4",
   "metadata": {},
   "outputs": [
    {
     "data": {
      "text/plain": [
       "{'label': 'anger', 'score': 0.5257914066314697}"
      ]
     },
     "execution_count": 5,
     "metadata": {},
     "output_type": "execute_result"
    }
   ],
   "source": [
    "find_emotion(\"I hate my friend who doesn't have time for me.\")"
   ]
  }
 ],
 "metadata": {
  "kernelspec": {
   "display_name": "Python 3 (ipykernel)",
   "language": "python",
   "name": "python3"
  },
  "language_info": {
   "codemirror_mode": {
    "name": "ipython",
    "version": 3
   },
   "file_extension": ".py",
   "mimetype": "text/x-python",
   "name": "python",
   "nbconvert_exporter": "python",
   "pygments_lexer": "ipython3",
   "version": "3.9.7"
  }
 },
 "nbformat": 4,
 "nbformat_minor": 5
}
