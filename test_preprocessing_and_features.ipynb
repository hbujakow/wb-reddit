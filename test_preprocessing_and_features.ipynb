{
 "cells": [
  {
   "cell_type": "code",
   "execution_count": 1,
   "metadata": {},
   "outputs": [],
   "source": [
    "import pandas as pd\n",
    "\n",
    "posts = pd.read_csv('data/IncelsPosts.csv')\n",
    "comments = pd.read_csv('data/IncelsComms.csv')"
   ]
  },
  {
   "cell_type": "code",
   "execution_count": 2,
   "metadata": {},
   "outputs": [],
   "source": [
    "#only 3 posts\n",
    "posts = posts[:3]"
   ]
  },
  {
   "cell_type": "code",
   "execution_count": 3,
   "metadata": {},
   "outputs": [
    {
     "data": {
      "text/html": [
       "<div>\n",
       "<style scoped>\n",
       "    .dataframe tbody tr th:only-of-type {\n",
       "        vertical-align: middle;\n",
       "    }\n",
       "\n",
       "    .dataframe tbody tr th {\n",
       "        vertical-align: top;\n",
       "    }\n",
       "\n",
       "    .dataframe thead th {\n",
       "        text-align: right;\n",
       "    }\n",
       "</style>\n",
       "<table border=\"1\" class=\"dataframe\">\n",
       "  <thead>\n",
       "    <tr style=\"text-align: right;\">\n",
       "      <th></th>\n",
       "      <th>subreddit</th>\n",
       "      <th>author</th>\n",
       "      <th>url</th>\n",
       "      <th>num_comments</th>\n",
       "      <th>score</th>\n",
       "      <th>ups</th>\n",
       "      <th>downs</th>\n",
       "      <th>title</th>\n",
       "      <th>selftext</th>\n",
       "      <th>id</th>\n",
       "      <th>permalink</th>\n",
       "    </tr>\n",
       "  </thead>\n",
       "  <tbody>\n",
       "    <tr>\n",
       "      <th>0</th>\n",
       "      <td>Incels</td>\n",
       "      <td>A_World_of_His_Own</td>\n",
       "      <td>https://i.imgur.com/B44LpE8.png</td>\n",
       "      <td>22</td>\n",
       "      <td>96.0</td>\n",
       "      <td>NaN</td>\n",
       "      <td>NaN</td>\n",
       "      <td>&amp;gt;mfw</td>\n",
       "      <td>NaN</td>\n",
       "      <td>6f1l9e</td>\n",
       "      <td>/r/Incels/comments/6f1l9e/mfw/</td>\n",
       "    </tr>\n",
       "    <tr>\n",
       "      <th>1</th>\n",
       "      <td>Incels</td>\n",
       "      <td>TheEngineer19</td>\n",
       "      <td>http://imgur.com/a/cNCiv</td>\n",
       "      <td>34</td>\n",
       "      <td>51.0</td>\n",
       "      <td>NaN</td>\n",
       "      <td>NaN</td>\n",
       "      <td>Lol! PM from a normie</td>\n",
       "      <td>NaN</td>\n",
       "      <td>6gsmfp</td>\n",
       "      <td>/r/Incels/comments/6gsmfp/lol_pm_from_a_normie/</td>\n",
       "    </tr>\n",
       "    <tr>\n",
       "      <th>2</th>\n",
       "      <td>Incels</td>\n",
       "      <td>[deleted]</td>\n",
       "      <td>http://imgur.com/3ChBiLl</td>\n",
       "      <td>92</td>\n",
       "      <td>161.0</td>\n",
       "      <td>NaN</td>\n",
       "      <td>NaN</td>\n",
       "      <td>cringe anarchy</td>\n",
       "      <td>NaN</td>\n",
       "      <td>6ggkcw</td>\n",
       "      <td>/r/Incels/comments/6ggkcw/cringe_anarchy/</td>\n",
       "    </tr>\n",
       "  </tbody>\n",
       "</table>\n",
       "</div>"
      ],
      "text/plain": [
       "  subreddit              author                              url  \\\n",
       "0    Incels  A_World_of_His_Own  https://i.imgur.com/B44LpE8.png   \n",
       "1    Incels       TheEngineer19         http://imgur.com/a/cNCiv   \n",
       "2    Incels           [deleted]         http://imgur.com/3ChBiLl   \n",
       "\n",
       "   num_comments  score  ups  downs                  title selftext      id  \\\n",
       "0            22   96.0  NaN    NaN                &gt;mfw      NaN  6f1l9e   \n",
       "1            34   51.0  NaN    NaN  Lol! PM from a normie      NaN  6gsmfp   \n",
       "2            92  161.0  NaN    NaN         cringe anarchy      NaN  6ggkcw   \n",
       "\n",
       "                                         permalink  \n",
       "0                   /r/Incels/comments/6f1l9e/mfw/  \n",
       "1  /r/Incels/comments/6gsmfp/lol_pm_from_a_normie/  \n",
       "2        /r/Incels/comments/6ggkcw/cringe_anarchy/  "
      ]
     },
     "execution_count": 3,
     "metadata": {},
     "output_type": "execute_result"
    }
   ],
   "source": [
    "posts"
   ]
  },
  {
   "cell_type": "code",
   "execution_count": 4,
   "metadata": {},
   "outputs": [
    {
     "data": {
      "text/plain": [
       "array(['6f1l9e', '6gsmfp', '6ggkcw'], dtype=object)"
      ]
     },
     "execution_count": 4,
     "metadata": {},
     "output_type": "execute_result"
    }
   ],
   "source": [
    "posts.id.values"
   ]
  },
  {
   "cell_type": "code",
   "execution_count": 6,
   "metadata": {},
   "outputs": [],
   "source": [
    "from preprocessing.preprocess import Preprocessor\n",
    "\n",
    "preprocessor = Preprocessor(posts, comments)"
   ]
  },
  {
   "cell_type": "code",
   "execution_count": 7,
   "metadata": {},
   "outputs": [],
   "source": [
    "from features.transform import Transformer\n",
    "\n",
    "transformer = Transformer(posts, comments)"
   ]
  },
  {
   "cell_type": "code",
   "execution_count": 8,
   "metadata": {},
   "outputs": [
    {
     "data": {
      "text/html": [
       "<div>\n",
       "<style scoped>\n",
       "    .dataframe tbody tr th:only-of-type {\n",
       "        vertical-align: middle;\n",
       "    }\n",
       "\n",
       "    .dataframe tbody tr th {\n",
       "        vertical-align: top;\n",
       "    }\n",
       "\n",
       "    .dataframe thead th {\n",
       "        text-align: right;\n",
       "    }\n",
       "</style>\n",
       "<table border=\"1\" class=\"dataframe\">\n",
       "  <thead>\n",
       "    <tr style=\"text-align: right;\">\n",
       "      <th></th>\n",
       "      <th>subreddit</th>\n",
       "      <th>author</th>\n",
       "      <th>url</th>\n",
       "      <th>score</th>\n",
       "      <th>title</th>\n",
       "      <th>selftext</th>\n",
       "      <th>id</th>\n",
       "      <th>wiener_index</th>\n",
       "      <th>depth</th>\n",
       "      <th>no_comments</th>\n",
       "    </tr>\n",
       "  </thead>\n",
       "  <tbody>\n",
       "    <tr>\n",
       "      <th>0</th>\n",
       "      <td>Incels</td>\n",
       "      <td>A_World_of_His_Own</td>\n",
       "      <td>https://i.imgur.com/B44LpE8.png</td>\n",
       "      <td>96.0</td>\n",
       "      <td>&amp;gt;mfw</td>\n",
       "      <td>[no_text]</td>\n",
       "      <td>6f1l9e</td>\n",
       "      <td>1.25</td>\n",
       "      <td>12</td>\n",
       "      <td>24</td>\n",
       "    </tr>\n",
       "    <tr>\n",
       "      <th>1</th>\n",
       "      <td>Incels</td>\n",
       "      <td>TheEngineer19</td>\n",
       "      <td>http://imgur.com/a/cNCiv</td>\n",
       "      <td>51.0</td>\n",
       "      <td>Lol! PM from a normie</td>\n",
       "      <td>[no_text]</td>\n",
       "      <td>6gsmfp</td>\n",
       "      <td>1.050725</td>\n",
       "      <td>8</td>\n",
       "      <td>40</td>\n",
       "    </tr>\n",
       "    <tr>\n",
       "      <th>2</th>\n",
       "      <td>Incels</td>\n",
       "      <td>[deleted]</td>\n",
       "      <td>http://imgur.com/3ChBiLl</td>\n",
       "      <td>161.0</td>\n",
       "      <td>cringe anarchy</td>\n",
       "      <td>[no_text]</td>\n",
       "      <td>6ggkcw</td>\n",
       "      <td>2.333333</td>\n",
       "      <td>12</td>\n",
       "      <td>34</td>\n",
       "    </tr>\n",
       "  </tbody>\n",
       "</table>\n",
       "</div>"
      ],
      "text/plain": [
       "  subreddit              author                              url  score  \\\n",
       "0    Incels  A_World_of_His_Own  https://i.imgur.com/B44LpE8.png   96.0   \n",
       "1    Incels       TheEngineer19         http://imgur.com/a/cNCiv   51.0   \n",
       "2    Incels           [deleted]         http://imgur.com/3ChBiLl  161.0   \n",
       "\n",
       "                   title   selftext      id wiener_index depth no_comments  \n",
       "0                &gt;mfw  [no_text]  6f1l9e         1.25    12          24  \n",
       "1  Lol! PM from a normie  [no_text]  6gsmfp     1.050725     8          40  \n",
       "2         cringe anarchy  [no_text]  6ggkcw     2.333333    12          34  "
      ]
     },
     "execution_count": 8,
     "metadata": {},
     "output_type": "execute_result"
    }
   ],
   "source": [
    "posts"
   ]
  }
 ],
 "metadata": {
  "kernelspec": {
   "display_name": "Python 3",
   "language": "python",
   "name": "python3"
  },
  "language_info": {
   "codemirror_mode": {
    "name": "ipython",
    "version": 3
   },
   "file_extension": ".py",
   "mimetype": "text/x-python",
   "name": "python",
   "nbconvert_exporter": "python",
   "pygments_lexer": "ipython3",
   "version": "3.8.10"
  },
  "orig_nbformat": 4
 },
 "nbformat": 4,
 "nbformat_minor": 2
}
