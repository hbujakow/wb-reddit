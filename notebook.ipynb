{
 "cells": [
  {
   "cell_type": "code",
   "execution_count": 1,
   "metadata": {},
   "outputs": [],
   "source": [
    "import pandas as pd"
   ]
  },
  {
   "cell_type": "code",
   "execution_count": 3,
   "metadata": {},
   "outputs": [],
   "source": [
    "incels_posts = pd.read_csv('data/IncelsPosts.csv')\n",
    "incels_comments = pd.read_csv('data/IncelsComms.csv')"
   ]
  },
  {
   "cell_type": "code",
   "execution_count": 7,
   "metadata": {},
   "outputs": [
    {
     "data": {
      "text/html": [
       "<div>\n",
       "<style scoped>\n",
       "    .dataframe tbody tr th:only-of-type {\n",
       "        vertical-align: middle;\n",
       "    }\n",
       "\n",
       "    .dataframe tbody tr th {\n",
       "        vertical-align: top;\n",
       "    }\n",
       "\n",
       "    .dataframe thead th {\n",
       "        text-align: right;\n",
       "    }\n",
       "</style>\n",
       "<table border=\"1\" class=\"dataframe\">\n",
       "  <thead>\n",
       "    <tr style=\"text-align: right;\">\n",
       "      <th></th>\n",
       "      <th>subreddit</th>\n",
       "      <th>author</th>\n",
       "      <th>url</th>\n",
       "      <th>num_comments</th>\n",
       "      <th>score</th>\n",
       "      <th>ups</th>\n",
       "      <th>downs</th>\n",
       "      <th>title</th>\n",
       "      <th>selftext</th>\n",
       "      <th>id</th>\n",
       "      <th>permalink</th>\n",
       "    </tr>\n",
       "  </thead>\n",
       "  <tbody>\n",
       "    <tr>\n",
       "      <th>0</th>\n",
       "      <td>Incels</td>\n",
       "      <td>A_World_of_His_Own</td>\n",
       "      <td>https://i.imgur.com/B44LpE8.png</td>\n",
       "      <td>22</td>\n",
       "      <td>96.0</td>\n",
       "      <td>NaN</td>\n",
       "      <td>NaN</td>\n",
       "      <td>&amp;gt;mfw</td>\n",
       "      <td>NaN</td>\n",
       "      <td>6f1l9e</td>\n",
       "      <td>/r/Incels/comments/6f1l9e/mfw/</td>\n",
       "    </tr>\n",
       "    <tr>\n",
       "      <th>1</th>\n",
       "      <td>Incels</td>\n",
       "      <td>TheEngineer19</td>\n",
       "      <td>http://imgur.com/a/cNCiv</td>\n",
       "      <td>34</td>\n",
       "      <td>51.0</td>\n",
       "      <td>NaN</td>\n",
       "      <td>NaN</td>\n",
       "      <td>Lol! PM from a normie</td>\n",
       "      <td>NaN</td>\n",
       "      <td>6gsmfp</td>\n",
       "      <td>/r/Incels/comments/6gsmfp/lol_pm_from_a_normie/</td>\n",
       "    </tr>\n",
       "    <tr>\n",
       "      <th>2</th>\n",
       "      <td>Incels</td>\n",
       "      <td>[deleted]</td>\n",
       "      <td>http://imgur.com/3ChBiLl</td>\n",
       "      <td>92</td>\n",
       "      <td>161.0</td>\n",
       "      <td>NaN</td>\n",
       "      <td>NaN</td>\n",
       "      <td>cringe anarchy</td>\n",
       "      <td>NaN</td>\n",
       "      <td>6ggkcw</td>\n",
       "      <td>/r/Incels/comments/6ggkcw/cringe_anarchy/</td>\n",
       "    </tr>\n",
       "    <tr>\n",
       "      <th>3</th>\n",
       "      <td>Incels</td>\n",
       "      <td>DeathBeforeNormie</td>\n",
       "      <td>https://www.reddit.com/r/AskMen/comments/6k1x9...</td>\n",
       "      <td>2</td>\n",
       "      <td>3.0</td>\n",
       "      <td>NaN</td>\n",
       "      <td>NaN</td>\n",
       "      <td>Normie post from AskMen. First comment is suic...</td>\n",
       "      <td>NaN</td>\n",
       "      <td>6k7qae</td>\n",
       "      <td>/r/Incels/comments/6k7qae/normie_post_from_ask...</td>\n",
       "    </tr>\n",
       "    <tr>\n",
       "      <th>4</th>\n",
       "      <td>Incels</td>\n",
       "      <td>dontcomplain1</td>\n",
       "      <td>https://imgur.com/a/IAzHh</td>\n",
       "      <td>57</td>\n",
       "      <td>99.0</td>\n",
       "      <td>NaN</td>\n",
       "      <td>NaN</td>\n",
       "      <td>Went out for a walk in nature to cope, here ar...</td>\n",
       "      <td>NaN</td>\n",
       "      <td>6gwgr1</td>\n",
       "      <td>/r/Incels/comments/6gwgr1/went_out_for_a_walk_...</td>\n",
       "    </tr>\n",
       "  </tbody>\n",
       "</table>\n",
       "</div>"
      ],
      "text/plain": [
       "  subreddit              author   \n",
       "0    Incels  A_World_of_His_Own  \\\n",
       "1    Incels       TheEngineer19   \n",
       "2    Incels           [deleted]   \n",
       "3    Incels   DeathBeforeNormie   \n",
       "4    Incels       dontcomplain1   \n",
       "\n",
       "                                                 url  num_comments  score   \n",
       "0                    https://i.imgur.com/B44LpE8.png            22   96.0  \\\n",
       "1                           http://imgur.com/a/cNCiv            34   51.0   \n",
       "2                           http://imgur.com/3ChBiLl            92  161.0   \n",
       "3  https://www.reddit.com/r/AskMen/comments/6k1x9...             2    3.0   \n",
       "4                          https://imgur.com/a/IAzHh            57   99.0   \n",
       "\n",
       "   ups  downs                                              title selftext   \n",
       "0  NaN    NaN                                            &gt;mfw      NaN  \\\n",
       "1  NaN    NaN                              Lol! PM from a normie      NaN   \n",
       "2  NaN    NaN                                     cringe anarchy      NaN   \n",
       "3  NaN    NaN  Normie post from AskMen. First comment is suic...      NaN   \n",
       "4  NaN    NaN  Went out for a walk in nature to cope, here ar...      NaN   \n",
       "\n",
       "       id                                          permalink  \n",
       "0  6f1l9e                     /r/Incels/comments/6f1l9e/mfw/  \n",
       "1  6gsmfp    /r/Incels/comments/6gsmfp/lol_pm_from_a_normie/  \n",
       "2  6ggkcw          /r/Incels/comments/6ggkcw/cringe_anarchy/  \n",
       "3  6k7qae  /r/Incels/comments/6k7qae/normie_post_from_ask...  \n",
       "4  6gwgr1  /r/Incels/comments/6gwgr1/went_out_for_a_walk_...  "
      ]
     },
     "execution_count": 7,
     "metadata": {},
     "output_type": "execute_result"
    }
   ],
   "source": [
    "incels_posts.head()"
   ]
  },
  {
   "cell_type": "code",
   "execution_count": 5,
   "metadata": {},
   "outputs": [
    {
     "data": {
      "text/html": [
       "<div>\n",
       "<style scoped>\n",
       "    .dataframe tbody tr th:only-of-type {\n",
       "        vertical-align: middle;\n",
       "    }\n",
       "\n",
       "    .dataframe tbody tr th {\n",
       "        vertical-align: top;\n",
       "    }\n",
       "\n",
       "    .dataframe thead th {\n",
       "        text-align: right;\n",
       "    }\n",
       "</style>\n",
       "<table border=\"1\" class=\"dataframe\">\n",
       "  <thead>\n",
       "    <tr style=\"text-align: right;\">\n",
       "      <th></th>\n",
       "      <th>body</th>\n",
       "      <th>score_hidden</th>\n",
       "      <th>archived</th>\n",
       "      <th>name</th>\n",
       "      <th>author</th>\n",
       "      <th>author_flair_text</th>\n",
       "      <th>downs</th>\n",
       "      <th>created_utc</th>\n",
       "      <th>subreddit_id</th>\n",
       "      <th>link_id</th>\n",
       "      <th>...</th>\n",
       "      <th>score</th>\n",
       "      <th>retrieved_on</th>\n",
       "      <th>controversiality</th>\n",
       "      <th>gilded</th>\n",
       "      <th>id</th>\n",
       "      <th>subreddit</th>\n",
       "      <th>ups</th>\n",
       "      <th>distinguished</th>\n",
       "      <th>author_flair_css_class</th>\n",
       "      <th>year_month</th>\n",
       "    </tr>\n",
       "  </thead>\n",
       "  <tbody>\n",
       "    <tr>\n",
       "      <th>0</th>\n",
       "      <td>incidentally no</td>\n",
       "      <td>NaN</td>\n",
       "      <td>NaN</td>\n",
       "      <td>NaN</td>\n",
       "      <td>little_milkee</td>\n",
       "      <td>NaN</td>\n",
       "      <td>NaN</td>\n",
       "      <td>1509602236</td>\n",
       "      <td>t5_2y2u1</td>\n",
       "      <td>t3_7a436d</td>\n",
       "      <td>...</td>\n",
       "      <td>NaN</td>\n",
       "      <td>1509602238</td>\n",
       "      <td>0</td>\n",
       "      <td>0</td>\n",
       "      <td>dp88fwg</td>\n",
       "      <td>Incels</td>\n",
       "      <td>NaN</td>\n",
       "      <td>NaN</td>\n",
       "      <td>NaN</td>\n",
       "      <td>2017-11-01 00:00:00 UTC</td>\n",
       "    </tr>\n",
       "    <tr>\n",
       "      <th>1</th>\n",
       "      <td>That's when the sexual market begins. Chads an...</td>\n",
       "      <td>NaN</td>\n",
       "      <td>NaN</td>\n",
       "      <td>NaN</td>\n",
       "      <td>BlackPill48</td>\n",
       "      <td>31yo bald manlet escortcel 卐 'Self improvement...</td>\n",
       "      <td>NaN</td>\n",
       "      <td>1509617470</td>\n",
       "      <td>t5_2y2u1</td>\n",
       "      <td>t3_7a9u7k</td>\n",
       "      <td>...</td>\n",
       "      <td>NaN</td>\n",
       "      <td>1509617471</td>\n",
       "      <td>0</td>\n",
       "      <td>0</td>\n",
       "      <td>dp8dyhw</td>\n",
       "      <td>Incels</td>\n",
       "      <td>NaN</td>\n",
       "      <td>NaN</td>\n",
       "      <td>NaN</td>\n",
       "      <td>2017-11-01 00:00:00 UTC</td>\n",
       "    </tr>\n",
       "    <tr>\n",
       "      <th>2</th>\n",
       "      <td>Definitely. If you're tall and have an imposin...</td>\n",
       "      <td>NaN</td>\n",
       "      <td>NaN</td>\n",
       "      <td>NaN</td>\n",
       "      <td>BILLXFRANK</td>\n",
       "      <td>NaN</td>\n",
       "      <td>NaN</td>\n",
       "      <td>1509666560</td>\n",
       "      <td>t5_2y2u1</td>\n",
       "      <td>t3_7ad5lb</td>\n",
       "      <td>...</td>\n",
       "      <td>NaN</td>\n",
       "      <td>1509666561</td>\n",
       "      <td>0</td>\n",
       "      <td>0</td>\n",
       "      <td>dp9jtjw</td>\n",
       "      <td>Incels</td>\n",
       "      <td>NaN</td>\n",
       "      <td>NaN</td>\n",
       "      <td>NaN</td>\n",
       "      <td>2017-11-01 00:00:00 UTC</td>\n",
       "    </tr>\n",
       "    <tr>\n",
       "      <th>3</th>\n",
       "      <td>cope.</td>\n",
       "      <td>NaN</td>\n",
       "      <td>NaN</td>\n",
       "      <td>NaN</td>\n",
       "      <td>PM_ME_STRIPPERS</td>\n",
       "      <td>Subhuman ugly piece of shit that shouldnt exist</td>\n",
       "      <td>NaN</td>\n",
       "      <td>1509636847</td>\n",
       "      <td>t5_2y2u1</td>\n",
       "      <td>t3_7aanly</td>\n",
       "      <td>...</td>\n",
       "      <td>NaN</td>\n",
       "      <td>1509636849</td>\n",
       "      <td>0</td>\n",
       "      <td>0</td>\n",
       "      <td>dp8r4o7</td>\n",
       "      <td>Incels</td>\n",
       "      <td>NaN</td>\n",
       "      <td>NaN</td>\n",
       "      <td>NaN</td>\n",
       "      <td>2017-11-01 00:00:00 UTC</td>\n",
       "    </tr>\n",
       "    <tr>\n",
       "      <th>4</th>\n",
       "      <td>We know why. They consented in exchange for ca...</td>\n",
       "      <td>NaN</td>\n",
       "      <td>NaN</td>\n",
       "      <td>NaN</td>\n",
       "      <td>itsabsolutelyover</td>\n",
       "      <td>Deuteronomy 22:21</td>\n",
       "      <td>NaN</td>\n",
       "      <td>1509578479</td>\n",
       "      <td>t5_2y2u1</td>\n",
       "      <td>t3_7a7e63</td>\n",
       "      <td>...</td>\n",
       "      <td>NaN</td>\n",
       "      <td>1509578603</td>\n",
       "      <td>0</td>\n",
       "      <td>0</td>\n",
       "      <td>dp7pgca</td>\n",
       "      <td>Incels</td>\n",
       "      <td>NaN</td>\n",
       "      <td>NaN</td>\n",
       "      <td>NaN</td>\n",
       "      <td>2017-11-01 00:00:00 UTC</td>\n",
       "    </tr>\n",
       "  </tbody>\n",
       "</table>\n",
       "<p>5 rows × 21 columns</p>\n",
       "</div>"
      ],
      "text/plain": [
       "                                                body  score_hidden  archived   \n",
       "0                                   incidentally no            NaN       NaN  \\\n",
       "1  That's when the sexual market begins. Chads an...           NaN       NaN   \n",
       "2  Definitely. If you're tall and have an imposin...           NaN       NaN   \n",
       "3                                              cope.           NaN       NaN   \n",
       "4  We know why. They consented in exchange for ca...           NaN       NaN   \n",
       "\n",
       "   name             author                                  author_flair_text   \n",
       "0   NaN      little_milkee                                                NaN  \\\n",
       "1   NaN        BlackPill48  31yo bald manlet escortcel 卐 'Self improvement...   \n",
       "2   NaN         BILLXFRANK                                                NaN   \n",
       "3   NaN    PM_ME_STRIPPERS    Subhuman ugly piece of shit that shouldnt exist   \n",
       "4   NaN  itsabsolutelyover                                  Deuteronomy 22:21   \n",
       "\n",
       "   downs  created_utc subreddit_id    link_id  ... score  retrieved_on   \n",
       "0    NaN   1509602236     t5_2y2u1  t3_7a436d  ...   NaN    1509602238  \\\n",
       "1    NaN   1509617470     t5_2y2u1  t3_7a9u7k  ...   NaN    1509617471   \n",
       "2    NaN   1509666560     t5_2y2u1  t3_7ad5lb  ...   NaN    1509666561   \n",
       "3    NaN   1509636847     t5_2y2u1  t3_7aanly  ...   NaN    1509636849   \n",
       "4    NaN   1509578479     t5_2y2u1  t3_7a7e63  ...   NaN    1509578603   \n",
       "\n",
       "   controversiality  gilded       id subreddit ups  distinguished   \n",
       "0                 0       0  dp88fwg    Incels NaN            NaN  \\\n",
       "1                 0       0  dp8dyhw    Incels NaN            NaN   \n",
       "2                 0       0  dp9jtjw    Incels NaN            NaN   \n",
       "3                 0       0  dp8r4o7    Incels NaN            NaN   \n",
       "4                 0       0  dp7pgca    Incels NaN            NaN   \n",
       "\n",
       "  author_flair_css_class               year_month  \n",
       "0                    NaN  2017-11-01 00:00:00 UTC  \n",
       "1                    NaN  2017-11-01 00:00:00 UTC  \n",
       "2                    NaN  2017-11-01 00:00:00 UTC  \n",
       "3                    NaN  2017-11-01 00:00:00 UTC  \n",
       "4                    NaN  2017-11-01 00:00:00 UTC  \n",
       "\n",
       "[5 rows x 21 columns]"
      ]
     },
     "execution_count": 5,
     "metadata": {},
     "output_type": "execute_result"
    }
   ],
   "source": [
    "incels_comments.head()"
   ]
  },
  {
   "cell_type": "code",
   "execution_count": 8,
   "metadata": {},
   "outputs": [
    {
     "data": {
      "text/plain": [
       "Index(['body', 'score_hidden', 'archived', 'name', 'author',\n",
       "       'author_flair_text', 'downs', 'created_utc', 'subreddit_id', 'link_id',\n",
       "       'parent_id', 'score', 'retrieved_on', 'controversiality', 'gilded',\n",
       "       'id', 'subreddit', 'ups', 'distinguished', 'author_flair_css_class',\n",
       "       'year_month'],\n",
       "      dtype='object')"
      ]
     },
     "execution_count": 8,
     "metadata": {},
     "output_type": "execute_result"
    }
   ],
   "source": [
    "incels_comments.columns"
   ]
  },
  {
   "cell_type": "code",
   "execution_count": 13,
   "metadata": {},
   "outputs": [
    {
     "data": {
      "text/plain": [
       "(44378, 54218)"
      ]
     },
     "execution_count": 13,
     "metadata": {},
     "output_type": "execute_result"
    }
   ],
   "source": [
    "incels_comments.link_id.unique().size, incels_posts.id.unique().size"
   ]
  },
  {
   "cell_type": "code",
   "execution_count": 14,
   "metadata": {},
   "outputs": [
    {
     "data": {
      "text/plain": [
       "612508"
      ]
     },
     "execution_count": 14,
     "metadata": {},
     "output_type": "execute_result"
    }
   ],
   "source": [
    "incels_comments.parent_id.unique().size"
   ]
  },
  {
   "cell_type": "code",
   "execution_count": 9,
   "metadata": {},
   "outputs": [
    {
     "data": {
      "text/plain": [
       "Index(['subreddit', 'author', 'url', 'num_comments', 'score', 'ups', 'downs',\n",
       "       'title', 'selftext', 'id', 'permalink'],\n",
       "      dtype='object')"
      ]
     },
     "execution_count": 9,
     "metadata": {},
     "output_type": "execute_result"
    }
   ],
   "source": [
    "incels_posts.columns"
   ]
  },
  {
   "cell_type": "code",
   "execution_count": 16,
   "metadata": {},
   "outputs": [],
   "source": [
    "class Post:\n",
    "    def __init__(self, post_id, author):\n",
    "        self.post_id = post_id\n",
    "        self.author = author\n",
    "        # some fields ...\n",
    "\n",
    "        self.comments = []\n",
    "\n",
    "class Comment:\n",
    "    def __init__(self, comment_id, author, parent_id=None):\n",
    "        self.comment_id = comment_id\n",
    "        self.author = author\n",
    "        self.parent_id = parent_id\n",
    "        self.subcomments = []"
   ]
  },
  {
   "cell_type": "code",
   "execution_count": 18,
   "metadata": {},
   "outputs": [
    {
     "data": {
      "text/plain": [
       "(23887962, 596453)"
      ]
     },
     "execution_count": 18,
     "metadata": {},
     "output_type": "execute_result"
    }
   ],
   "source": [
    "incels_comments.size, incels_posts.size"
   ]
  },
  {
   "cell_type": "code",
   "execution_count": 40,
   "metadata": {},
   "outputs": [],
   "source": [
    "import pandas as pd\n",
    "from dataclasses import dataclass\n",
    "from typing import List, Optional\n",
    "\n",
    "@dataclass\n",
    "class Post:\n",
    "    post_id: str\n",
    "    author: str\n",
    "    comments: List['Comment'] = None\n",
    "\n",
    "@dataclass\n",
    "class Comment:\n",
    "    comment_id: str\n",
    "    author: str\n",
    "    parent_id: Optional[str] = None\n",
    "    subcomments: List['Comment'] = None\n",
    "\n",
    "# Load the datasets into pandas dataframes\n",
    "posts_df = pd.read_csv('data/IncelsPosts.csv')\n",
    "comments_df = pd.read_csv('data/IncelsComms.csv')"
   ]
  },
  {
   "cell_type": "code",
   "execution_count": 41,
   "metadata": {},
   "outputs": [],
   "source": [
    "# optional, trim dataframes to a smaller size\n",
    "posts_df = posts_df[:1000]\n",
    "comments_df = comments_df[:5000000]"
   ]
  },
  {
   "cell_type": "code",
   "execution_count": 42,
   "metadata": {},
   "outputs": [
    {
     "data": {
      "text/plain": [
       "Index(['body', 'score_hidden', 'archived', 'name', 'author',\n",
       "       'author_flair_text', 'downs', 'created_utc', 'subreddit_id', 'link_id',\n",
       "       'parent_id', 'score', 'retrieved_on', 'controversiality', 'gilded',\n",
       "       'id', 'subreddit', 'ups', 'distinguished', 'author_flair_css_class',\n",
       "       'year_month'],\n",
       "      dtype='object')"
      ]
     },
     "execution_count": 42,
     "metadata": {},
     "output_type": "execute_result"
    }
   ],
   "source": [
    "comments_df.columns"
   ]
  },
  {
   "cell_type": "code",
   "execution_count": 43,
   "metadata": {},
   "outputs": [],
   "source": [
    "# Create a list of Post objects\n",
    "posts = []\n",
    "for index, row in posts_df.iterrows():\n",
    "    post_id = row['id']\n",
    "    author = row['author']\n",
    "    post = Post(post_id, author)\n",
    "    comments_subset_df = comments_df[comments_df['link_id'] == post_id].copy()\n",
    "    comments_subset_df['parent_id'] = comments_subset_df['parent_id'].astype('Int64') # Convert to nullable integer type\n",
    "    comments = []\n",
    "    for comment_index, comment_row in comments_subset_df.iterrows():\n",
    "        comment_id = comment_row['id']\n",
    "        author = comment_row['author']\n",
    "        parent_id = comment_row['parent_id']\n",
    "        comment = Comment(comment_id, author, parent_id)\n",
    "        comments.append(comment)\n",
    "    for comment in comments:\n",
    "        if comment.parent_id is not None:\n",
    "            parent_comment = next((c for c in comments if c.comment_id == comment.parent_id), None)\n",
    "            if parent_comment:\n",
    "                if parent_comment.subcomments is None:\n",
    "                    parent_comment.subcomments = []\n",
    "                parent_comment.subcomments.append(comment)\n",
    "        else:\n",
    "            if post.comments is None:\n",
    "                post.comments = []\n",
    "            post.comments.append(comment)\n",
    "    posts.append(post)"
   ]
  },
  {
   "cell_type": "code",
   "execution_count": 44,
   "metadata": {},
   "outputs": [],
   "source": [
    "posts_with_comms = [p for p in posts if p.comments]"
   ]
  },
  {
   "cell_type": "code",
   "execution_count": 45,
   "metadata": {},
   "outputs": [
    {
     "data": {
      "text/plain": [
       "[]"
      ]
     },
     "execution_count": 45,
     "metadata": {},
     "output_type": "execute_result"
    }
   ],
   "source": [
    "posts_with_comms"
   ]
  },
  {
   "cell_type": "code",
   "execution_count": null,
   "metadata": {},
   "outputs": [],
   "source": []
  }
 ],
 "metadata": {
  "kernelspec": {
   "display_name": "venv",
   "language": "python",
   "name": "python3"
  },
  "language_info": {
   "codemirror_mode": {
    "name": "ipython",
    "version": 3
   },
   "file_extension": ".py",
   "mimetype": "text/x-python",
   "name": "python",
   "nbconvert_exporter": "python",
   "pygments_lexer": "ipython3",
   "version": "3.10.7"
  },
  "orig_nbformat": 4
 },
 "nbformat": 4,
 "nbformat_minor": 2
}
