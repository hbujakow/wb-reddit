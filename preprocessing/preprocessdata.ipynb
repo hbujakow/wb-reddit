{
 "cells": [
  {
   "cell_type": "code",
   "execution_count": 2,
   "metadata": {},
   "outputs": [],
   "source": [
    "import pandas as pd\n",
    "\n",
    "posts = pd.read_csv('../data/IncelsPosts.csv')\n",
    "comments = pd.read_csv('../data/IncelsComms.csv')"
   ]
  },
  {
   "attachments": {},
   "cell_type": "markdown",
   "metadata": {},
   "source": [
    "# POSTS"
   ]
  },
  {
   "cell_type": "code",
   "execution_count": 5,
   "metadata": {},
   "outputs": [
    {
     "data": {
      "text/html": [
       "<div>\n",
       "<style scoped>\n",
       "    .dataframe tbody tr th:only-of-type {\n",
       "        vertical-align: middle;\n",
       "    }\n",
       "\n",
       "    .dataframe tbody tr th {\n",
       "        vertical-align: top;\n",
       "    }\n",
       "\n",
       "    .dataframe thead th {\n",
       "        text-align: right;\n",
       "    }\n",
       "</style>\n",
       "<table border=\"1\" class=\"dataframe\">\n",
       "  <thead>\n",
       "    <tr style=\"text-align: right;\">\n",
       "      <th></th>\n",
       "      <th>subreddit</th>\n",
       "      <th>author</th>\n",
       "      <th>url</th>\n",
       "      <th>num_comments</th>\n",
       "      <th>score</th>\n",
       "      <th>ups</th>\n",
       "      <th>downs</th>\n",
       "      <th>title</th>\n",
       "      <th>selftext</th>\n",
       "      <th>id</th>\n",
       "      <th>permalink</th>\n",
       "    </tr>\n",
       "  </thead>\n",
       "  <tbody>\n",
       "    <tr>\n",
       "      <th>0</th>\n",
       "      <td>Incels</td>\n",
       "      <td>A_World_of_His_Own</td>\n",
       "      <td>https://i.imgur.com/B44LpE8.png</td>\n",
       "      <td>22</td>\n",
       "      <td>96.0</td>\n",
       "      <td>NaN</td>\n",
       "      <td>NaN</td>\n",
       "      <td>&amp;gt;mfw</td>\n",
       "      <td>NaN</td>\n",
       "      <td>6f1l9e</td>\n",
       "      <td>/r/Incels/comments/6f1l9e/mfw/</td>\n",
       "    </tr>\n",
       "    <tr>\n",
       "      <th>1</th>\n",
       "      <td>Incels</td>\n",
       "      <td>TheEngineer19</td>\n",
       "      <td>http://imgur.com/a/cNCiv</td>\n",
       "      <td>34</td>\n",
       "      <td>51.0</td>\n",
       "      <td>NaN</td>\n",
       "      <td>NaN</td>\n",
       "      <td>Lol! PM from a normie</td>\n",
       "      <td>NaN</td>\n",
       "      <td>6gsmfp</td>\n",
       "      <td>/r/Incels/comments/6gsmfp/lol_pm_from_a_normie/</td>\n",
       "    </tr>\n",
       "    <tr>\n",
       "      <th>2</th>\n",
       "      <td>Incels</td>\n",
       "      <td>[deleted]</td>\n",
       "      <td>http://imgur.com/3ChBiLl</td>\n",
       "      <td>92</td>\n",
       "      <td>161.0</td>\n",
       "      <td>NaN</td>\n",
       "      <td>NaN</td>\n",
       "      <td>cringe anarchy</td>\n",
       "      <td>NaN</td>\n",
       "      <td>6ggkcw</td>\n",
       "      <td>/r/Incels/comments/6ggkcw/cringe_anarchy/</td>\n",
       "    </tr>\n",
       "    <tr>\n",
       "      <th>3</th>\n",
       "      <td>Incels</td>\n",
       "      <td>DeathBeforeNormie</td>\n",
       "      <td>https://www.reddit.com/r/AskMen/comments/6k1x9...</td>\n",
       "      <td>2</td>\n",
       "      <td>3.0</td>\n",
       "      <td>NaN</td>\n",
       "      <td>NaN</td>\n",
       "      <td>Normie post from AskMen. First comment is suic...</td>\n",
       "      <td>NaN</td>\n",
       "      <td>6k7qae</td>\n",
       "      <td>/r/Incels/comments/6k7qae/normie_post_from_ask...</td>\n",
       "    </tr>\n",
       "    <tr>\n",
       "      <th>4</th>\n",
       "      <td>Incels</td>\n",
       "      <td>dontcomplain1</td>\n",
       "      <td>https://imgur.com/a/IAzHh</td>\n",
       "      <td>57</td>\n",
       "      <td>99.0</td>\n",
       "      <td>NaN</td>\n",
       "      <td>NaN</td>\n",
       "      <td>Went out for a walk in nature to cope, here ar...</td>\n",
       "      <td>NaN</td>\n",
       "      <td>6gwgr1</td>\n",
       "      <td>/r/Incels/comments/6gwgr1/went_out_for_a_walk_...</td>\n",
       "    </tr>\n",
       "    <tr>\n",
       "      <th>...</th>\n",
       "      <td>...</td>\n",
       "      <td>...</td>\n",
       "      <td>...</td>\n",
       "      <td>...</td>\n",
       "      <td>...</td>\n",
       "      <td>...</td>\n",
       "      <td>...</td>\n",
       "      <td>...</td>\n",
       "      <td>...</td>\n",
       "      <td>...</td>\n",
       "      <td>...</td>\n",
       "    </tr>\n",
       "    <tr>\n",
       "      <th>54218</th>\n",
       "      <td>Incels</td>\n",
       "      <td>OGezus</td>\n",
       "      <td>https://www.reddit.com/r/Incels/comments/5syjr...</td>\n",
       "      <td>0</td>\n",
       "      <td>1.0</td>\n",
       "      <td>NaN</td>\n",
       "      <td>NaN</td>\n",
       "      <td>tuning in</td>\n",
       "      <td>[removed]</td>\n",
       "      <td>5syjro</td>\n",
       "      <td>/r/Incels/comments/5syjro/tuning_in/</td>\n",
       "    </tr>\n",
       "    <tr>\n",
       "      <th>54219</th>\n",
       "      <td>Incels</td>\n",
       "      <td>[deleted]</td>\n",
       "      <td>https://www.reddit.com/r/Incels/comments/5wm58...</td>\n",
       "      <td>0</td>\n",
       "      <td>1.0</td>\n",
       "      <td>NaN</td>\n",
       "      <td>NaN</td>\n",
       "      <td>When did you realize you were a incel ?</td>\n",
       "      <td>[removed]</td>\n",
       "      <td>5wm587</td>\n",
       "      <td>/r/Incels/comments/5wm587/when_did_you_realize...</td>\n",
       "    </tr>\n",
       "    <tr>\n",
       "      <th>54220</th>\n",
       "      <td>Incels</td>\n",
       "      <td>IncelsAMA</td>\n",
       "      <td>https://www.reddit.com/r/Incels/comments/5vjwh...</td>\n",
       "      <td>0</td>\n",
       "      <td>1.0</td>\n",
       "      <td>NaN</td>\n",
       "      <td>NaN</td>\n",
       "      <td>Hey Incels, I am a girl and I want to help you...</td>\n",
       "      <td>[removed]</td>\n",
       "      <td>5vjwhq</td>\n",
       "      <td>/r/Incels/comments/5vjwhq/hey_incels_i_am_a_gi...</td>\n",
       "    </tr>\n",
       "    <tr>\n",
       "      <th>54221</th>\n",
       "      <td>Incels</td>\n",
       "      <td>[deleted]</td>\n",
       "      <td>https://www.reddit.com/r/Incels/comments/5ung3...</td>\n",
       "      <td>0</td>\n",
       "      <td>1.0</td>\n",
       "      <td>NaN</td>\n",
       "      <td>NaN</td>\n",
       "      <td>I think I'm becoming gay.</td>\n",
       "      <td>[removed]</td>\n",
       "      <td>5ung39</td>\n",
       "      <td>/r/Incels/comments/5ung39/i_think_im_becoming_...</td>\n",
       "    </tr>\n",
       "    <tr>\n",
       "      <th>54222</th>\n",
       "      <td>Incels</td>\n",
       "      <td>[deleted]</td>\n",
       "      <td>https://www.reddit.com/r/Incels/comments/5tqcz...</td>\n",
       "      <td>0</td>\n",
       "      <td>1.0</td>\n",
       "      <td>NaN</td>\n",
       "      <td>NaN</td>\n",
       "      <td>it's gay how murder is illegal</td>\n",
       "      <td>[removed]</td>\n",
       "      <td>5tqczk</td>\n",
       "      <td>/r/Incels/comments/5tqczk/its_gay_how_murder_i...</td>\n",
       "    </tr>\n",
       "  </tbody>\n",
       "</table>\n",
       "<p>54223 rows × 11 columns</p>\n",
       "</div>"
      ],
      "text/plain": [
       "      subreddit              author  \\\n",
       "0        Incels  A_World_of_His_Own   \n",
       "1        Incels       TheEngineer19   \n",
       "2        Incels           [deleted]   \n",
       "3        Incels   DeathBeforeNormie   \n",
       "4        Incels       dontcomplain1   \n",
       "...         ...                 ...   \n",
       "54218    Incels              OGezus   \n",
       "54219    Incels           [deleted]   \n",
       "54220    Incels           IncelsAMA   \n",
       "54221    Incels           [deleted]   \n",
       "54222    Incels           [deleted]   \n",
       "\n",
       "                                                     url  num_comments  score  \\\n",
       "0                        https://i.imgur.com/B44LpE8.png            22   96.0   \n",
       "1                               http://imgur.com/a/cNCiv            34   51.0   \n",
       "2                               http://imgur.com/3ChBiLl            92  161.0   \n",
       "3      https://www.reddit.com/r/AskMen/comments/6k1x9...             2    3.0   \n",
       "4                              https://imgur.com/a/IAzHh            57   99.0   \n",
       "...                                                  ...           ...    ...   \n",
       "54218  https://www.reddit.com/r/Incels/comments/5syjr...             0    1.0   \n",
       "54219  https://www.reddit.com/r/Incels/comments/5wm58...             0    1.0   \n",
       "54220  https://www.reddit.com/r/Incels/comments/5vjwh...             0    1.0   \n",
       "54221  https://www.reddit.com/r/Incels/comments/5ung3...             0    1.0   \n",
       "54222  https://www.reddit.com/r/Incels/comments/5tqcz...             0    1.0   \n",
       "\n",
       "       ups  downs                                              title  \\\n",
       "0      NaN    NaN                                            &gt;mfw   \n",
       "1      NaN    NaN                              Lol! PM from a normie   \n",
       "2      NaN    NaN                                     cringe anarchy   \n",
       "3      NaN    NaN  Normie post from AskMen. First comment is suic...   \n",
       "4      NaN    NaN  Went out for a walk in nature to cope, here ar...   \n",
       "...    ...    ...                                                ...   \n",
       "54218  NaN    NaN                                          tuning in   \n",
       "54219  NaN    NaN            When did you realize you were a incel ?   \n",
       "54220  NaN    NaN  Hey Incels, I am a girl and I want to help you...   \n",
       "54221  NaN    NaN                          I think I'm becoming gay.   \n",
       "54222  NaN    NaN                     it's gay how murder is illegal   \n",
       "\n",
       "        selftext      id                                          permalink  \n",
       "0            NaN  6f1l9e                     /r/Incels/comments/6f1l9e/mfw/  \n",
       "1            NaN  6gsmfp    /r/Incels/comments/6gsmfp/lol_pm_from_a_normie/  \n",
       "2            NaN  6ggkcw          /r/Incels/comments/6ggkcw/cringe_anarchy/  \n",
       "3            NaN  6k7qae  /r/Incels/comments/6k7qae/normie_post_from_ask...  \n",
       "4            NaN  6gwgr1  /r/Incels/comments/6gwgr1/went_out_for_a_walk_...  \n",
       "...          ...     ...                                                ...  \n",
       "54218  [removed]  5syjro               /r/Incels/comments/5syjro/tuning_in/  \n",
       "54219  [removed]  5wm587  /r/Incels/comments/5wm587/when_did_you_realize...  \n",
       "54220  [removed]  5vjwhq  /r/Incels/comments/5vjwhq/hey_incels_i_am_a_gi...  \n",
       "54221  [removed]  5ung39  /r/Incels/comments/5ung39/i_think_im_becoming_...  \n",
       "54222  [removed]  5tqczk  /r/Incels/comments/5tqczk/its_gay_how_murder_i...  \n",
       "\n",
       "[54223 rows x 11 columns]"
      ]
     },
     "execution_count": 5,
     "metadata": {},
     "output_type": "execute_result"
    }
   ],
   "source": [
    "posts"
   ]
  },
  {
   "cell_type": "code",
   "execution_count": 9,
   "metadata": {},
   "outputs": [
    {
     "data": {
      "text/plain": [
       "(44658, 44658)"
      ]
     },
     "execution_count": 9,
     "metadata": {},
     "output_type": "execute_result"
    }
   ],
   "source": [
    "posts.ups.isna().sum(), posts.downs.isna().sum()"
   ]
  },
  {
   "attachments": {},
   "cell_type": "markdown",
   "metadata": {},
   "source": [
    "A lot of records are Nans, so it will be dropped them."
   ]
  },
  {
   "cell_type": "code",
   "execution_count": 13,
   "metadata": {},
   "outputs": [],
   "source": [
    "posts.drop(columns=['ups', 'downs'], inplace=True)"
   ]
  },
  {
   "attachments": {},
   "cell_type": "markdown",
   "metadata": {},
   "source": [
    "Column `num_comments` contains values that differ from real number of comments. It will be dropped."
   ]
  },
  {
   "cell_type": "code",
   "execution_count": 15,
   "metadata": {},
   "outputs": [],
   "source": [
    "posts.drop(columns=['num_comments'], inplace=True)"
   ]
  },
  {
   "cell_type": "code",
   "execution_count": 16,
   "metadata": {},
   "outputs": [
    {
     "data": {
      "text/html": [
       "<div>\n",
       "<style scoped>\n",
       "    .dataframe tbody tr th:only-of-type {\n",
       "        vertical-align: middle;\n",
       "    }\n",
       "\n",
       "    .dataframe tbody tr th {\n",
       "        vertical-align: top;\n",
       "    }\n",
       "\n",
       "    .dataframe thead th {\n",
       "        text-align: right;\n",
       "    }\n",
       "</style>\n",
       "<table border=\"1\" class=\"dataframe\">\n",
       "  <thead>\n",
       "    <tr style=\"text-align: right;\">\n",
       "      <th></th>\n",
       "      <th>subreddit</th>\n",
       "      <th>author</th>\n",
       "      <th>url</th>\n",
       "      <th>score</th>\n",
       "      <th>title</th>\n",
       "      <th>selftext</th>\n",
       "      <th>id</th>\n",
       "      <th>permalink</th>\n",
       "    </tr>\n",
       "  </thead>\n",
       "  <tbody>\n",
       "    <tr>\n",
       "      <th>0</th>\n",
       "      <td>Incels</td>\n",
       "      <td>A_World_of_His_Own</td>\n",
       "      <td>https://i.imgur.com/B44LpE8.png</td>\n",
       "      <td>96.0</td>\n",
       "      <td>&amp;gt;mfw</td>\n",
       "      <td>NaN</td>\n",
       "      <td>6f1l9e</td>\n",
       "      <td>/r/Incels/comments/6f1l9e/mfw/</td>\n",
       "    </tr>\n",
       "    <tr>\n",
       "      <th>1</th>\n",
       "      <td>Incels</td>\n",
       "      <td>TheEngineer19</td>\n",
       "      <td>http://imgur.com/a/cNCiv</td>\n",
       "      <td>51.0</td>\n",
       "      <td>Lol! PM from a normie</td>\n",
       "      <td>NaN</td>\n",
       "      <td>6gsmfp</td>\n",
       "      <td>/r/Incels/comments/6gsmfp/lol_pm_from_a_normie/</td>\n",
       "    </tr>\n",
       "  </tbody>\n",
       "</table>\n",
       "</div>"
      ],
      "text/plain": [
       "  subreddit              author                              url  score  \\\n",
       "0    Incels  A_World_of_His_Own  https://i.imgur.com/B44LpE8.png   96.0   \n",
       "1    Incels       TheEngineer19         http://imgur.com/a/cNCiv   51.0   \n",
       "\n",
       "                   title selftext      id  \\\n",
       "0                &gt;mfw      NaN  6f1l9e   \n",
       "1  Lol! PM from a normie      NaN  6gsmfp   \n",
       "\n",
       "                                         permalink  \n",
       "0                   /r/Incels/comments/6f1l9e/mfw/  \n",
       "1  /r/Incels/comments/6gsmfp/lol_pm_from_a_normie/  "
      ]
     },
     "execution_count": 16,
     "metadata": {},
     "output_type": "execute_result"
    }
   ],
   "source": [
    "posts.head(2)"
   ]
  },
  {
   "cell_type": "code",
   "execution_count": 10,
   "metadata": {},
   "outputs": [
    {
     "data": {
      "text/plain": [
       "1.0      15770\n",
       "0.0       5387\n",
       "2.0       3682\n",
       "3.0       2936\n",
       "4.0       2168\n",
       "         ...  \n",
       "418.0        1\n",
       "481.0        1\n",
       "595.0        1\n",
       "382.0        1\n",
       "328.0        1\n",
       "Name: score, Length: 436, dtype: int64"
      ]
     },
     "execution_count": 10,
     "metadata": {},
     "output_type": "execute_result"
    }
   ],
   "source": [
    "posts.score.value_counts()"
   ]
  },
  {
   "cell_type": "code",
   "execution_count": 19,
   "metadata": {},
   "outputs": [
    {
     "data": {
      "image/png": "[encoded data removed]",
      "text/plain": [
       "<Figure size 432x288 with 1 Axes>"
      ]
     },
     "metadata": {
      "needs_background": "light"
     },
     "output_type": "display_data"
    }
   ],
   "source": [
    "import matplotlib.pyplot as plt\n",
    "\n",
    "plt.hist(posts.score, bins=100)\n",
    "plt.show()"
   ]
  },
  {
   "cell_type": "code",
   "execution_count": 20,
   "metadata": {},
   "outputs": [
    {
     "data": {
      "text/plain": [
       "4367.0"
      ]
     },
     "execution_count": 20,
     "metadata": {},
     "output_type": "execute_result"
    }
   ],
   "source": [
    "posts.score.max()"
   ]
  },
  {
   "cell_type": "code",
   "execution_count": 21,
   "metadata": {},
   "outputs": [
    {
     "data": {
      "text/plain": [
       "3"
      ]
     },
     "execution_count": 21,
     "metadata": {},
     "output_type": "execute_result"
    }
   ],
   "source": [
    "(posts.score>1000).sum()"
   ]
  },
  {
   "cell_type": "code",
   "execution_count": 11,
   "metadata": {},
   "outputs": [
    {
     "data": {
      "text/plain": [
       "21"
      ]
     },
     "execution_count": 11,
     "metadata": {},
     "output_type": "execute_result"
    }
   ],
   "source": [
    "posts.score.isna().sum()"
   ]
  },
  {
   "attachments": {},
   "cell_type": "markdown",
   "metadata": {},
   "source": [
    "Those posts containing `NaN`s in the score column will be assigned the new value `0`."
   ]
  },
  {
   "cell_type": "code",
   "execution_count": 22,
   "metadata": {},
   "outputs": [],
   "source": [
    "posts.score.fillna(0, inplace=True)"
   ]
  },
  {
   "cell_type": "code",
   "execution_count": 24,
   "metadata": {},
   "outputs": [
    {
     "data": {
      "text/html": [
       "<div>\n",
       "<style scoped>\n",
       "    .dataframe tbody tr th:only-of-type {\n",
       "        vertical-align: middle;\n",
       "    }\n",
       "\n",
       "    .dataframe tbody tr th {\n",
       "        vertical-align: top;\n",
       "    }\n",
       "\n",
       "    .dataframe thead th {\n",
       "        text-align: right;\n",
       "    }\n",
       "</style>\n",
       "<table border=\"1\" class=\"dataframe\">\n",
       "  <thead>\n",
       "    <tr style=\"text-align: right;\">\n",
       "      <th></th>\n",
       "      <th>subreddit</th>\n",
       "      <th>author</th>\n",
       "      <th>url</th>\n",
       "      <th>score</th>\n",
       "      <th>title</th>\n",
       "      <th>selftext</th>\n",
       "      <th>id</th>\n",
       "      <th>permalink</th>\n",
       "    </tr>\n",
       "  </thead>\n",
       "  <tbody>\n",
       "    <tr>\n",
       "      <th>0</th>\n",
       "      <td>Incels</td>\n",
       "      <td>A_World_of_His_Own</td>\n",
       "      <td>https://i.imgur.com/B44LpE8.png</td>\n",
       "      <td>96.0</td>\n",
       "      <td>&amp;gt;mfw</td>\n",
       "      <td>NaN</td>\n",
       "      <td>6f1l9e</td>\n",
       "      <td>/r/Incels/comments/6f1l9e/mfw/</td>\n",
       "    </tr>\n",
       "  </tbody>\n",
       "</table>\n",
       "</div>"
      ],
      "text/plain": [
       "  subreddit              author                              url  score  \\\n",
       "0    Incels  A_World_of_His_Own  https://i.imgur.com/B44LpE8.png   96.0   \n",
       "\n",
       "     title selftext      id                       permalink  \n",
       "0  &gt;mfw      NaN  6f1l9e  /r/Incels/comments/6f1l9e/mfw/  "
      ]
     },
     "execution_count": 24,
     "metadata": {},
     "output_type": "execute_result"
    }
   ],
   "source": [
    "posts.head(1)"
   ]
  },
  {
   "cell_type": "code",
   "execution_count": 26,
   "metadata": {},
   "outputs": [
    {
     "data": {
      "text/plain": [
       "12062"
      ]
     },
     "execution_count": 26,
     "metadata": {},
     "output_type": "execute_result"
    }
   ],
   "source": [
    "posts.selftext.isna().sum()"
   ]
  },
  {
   "cell_type": "code",
   "execution_count": 28,
   "metadata": {},
   "outputs": [
    {
     "data": {
      "text/html": [
       "<div>\n",
       "<style scoped>\n",
       "    .dataframe tbody tr th:only-of-type {\n",
       "        vertical-align: middle;\n",
       "    }\n",
       "\n",
       "    .dataframe tbody tr th {\n",
       "        vertical-align: top;\n",
       "    }\n",
       "\n",
       "    .dataframe thead th {\n",
       "        text-align: right;\n",
       "    }\n",
       "</style>\n",
       "<table border=\"1\" class=\"dataframe\">\n",
       "  <thead>\n",
       "    <tr style=\"text-align: right;\">\n",
       "      <th></th>\n",
       "      <th>subreddit</th>\n",
       "      <th>author</th>\n",
       "      <th>url</th>\n",
       "      <th>score</th>\n",
       "      <th>title</th>\n",
       "      <th>selftext</th>\n",
       "      <th>id</th>\n",
       "      <th>permalink</th>\n",
       "    </tr>\n",
       "  </thead>\n",
       "  <tbody>\n",
       "    <tr>\n",
       "      <th>60</th>\n",
       "      <td>Incels</td>\n",
       "      <td>[deleted]</td>\n",
       "      <td>https://www.reddit.com/r/Incels/comments/6fz3q...</td>\n",
       "      <td>1.0</td>\n",
       "      <td>As an incel deserter turned \"normie\" I have a ...</td>\n",
       "      <td>[removed]</td>\n",
       "      <td>6fz3qa</td>\n",
       "      <td>/r/Incels/comments/6fz3qa/as_an_incel_deserter...</td>\n",
       "    </tr>\n",
       "    <tr>\n",
       "      <th>61</th>\n",
       "      <td>Incels</td>\n",
       "      <td>[deleted]</td>\n",
       "      <td>https://www.reddit.com/r/Incels/comments/6igxn...</td>\n",
       "      <td>1.0</td>\n",
       "      <td>63 Reasons I fucking hate reddit</td>\n",
       "      <td>[removed]</td>\n",
       "      <td>6igxn4</td>\n",
       "      <td>/r/Incels/comments/6igxn4/63_reasons_i_fucking...</td>\n",
       "    </tr>\n",
       "  </tbody>\n",
       "</table>\n",
       "</div>"
      ],
      "text/plain": [
       "   subreddit     author                                                url  \\\n",
       "60    Incels  [deleted]  https://www.reddit.com/r/Incels/comments/6fz3q...   \n",
       "61    Incels  [deleted]  https://www.reddit.com/r/Incels/comments/6igxn...   \n",
       "\n",
       "    score                                              title   selftext  \\\n",
       "60    1.0  As an incel deserter turned \"normie\" I have a ...  [removed]   \n",
       "61    1.0                   63 Reasons I fucking hate reddit  [removed]   \n",
       "\n",
       "        id                                          permalink  \n",
       "60  6fz3qa  /r/Incels/comments/6fz3qa/as_an_incel_deserter...  \n",
       "61  6igxn4  /r/Incels/comments/6igxn4/63_reasons_i_fucking...  "
      ]
     },
     "execution_count": 28,
     "metadata": {},
     "output_type": "execute_result"
    }
   ],
   "source": [
    "posts[posts.selftext=='[removed]'].head(2)"
   ]
  },
  {
   "cell_type": "code",
   "execution_count": 29,
   "metadata": {},
   "outputs": [
    {
     "data": {
      "text/html": [
       "<div>\n",
       "<style scoped>\n",
       "    .dataframe tbody tr th:only-of-type {\n",
       "        vertical-align: middle;\n",
       "    }\n",
       "\n",
       "    .dataframe tbody tr th {\n",
       "        vertical-align: top;\n",
       "    }\n",
       "\n",
       "    .dataframe thead th {\n",
       "        text-align: right;\n",
       "    }\n",
       "</style>\n",
       "<table border=\"1\" class=\"dataframe\">\n",
       "  <thead>\n",
       "    <tr style=\"text-align: right;\">\n",
       "      <th></th>\n",
       "      <th>subreddit</th>\n",
       "      <th>author</th>\n",
       "      <th>url</th>\n",
       "      <th>score</th>\n",
       "      <th>title</th>\n",
       "      <th>selftext</th>\n",
       "      <th>id</th>\n",
       "      <th>permalink</th>\n",
       "    </tr>\n",
       "  </thead>\n",
       "  <tbody>\n",
       "    <tr>\n",
       "      <th>17</th>\n",
       "      <td>Incels</td>\n",
       "      <td>Looks-are-everything</td>\n",
       "      <td>https://www.reddit.com/r/Incels/comments/6fjsr...</td>\n",
       "      <td>49.0</td>\n",
       "      <td>Even if you manage to get a girlfriend she can...</td>\n",
       "      <td>This is another reason out of a billion that a...</td>\n",
       "      <td>6fjsrp</td>\n",
       "      <td>/r/Incels/comments/6fjsrp/even_if_you_manage_t...</td>\n",
       "    </tr>\n",
       "    <tr>\n",
       "      <th>18</th>\n",
       "      <td>Incels</td>\n",
       "      <td>Drogic</td>\n",
       "      <td>https://www.reddit.com/r/Incels/comments/6fqpp...</td>\n",
       "      <td>0.0</td>\n",
       "      <td>Any Incels Who Aren't Short Or Ugly On Here?</td>\n",
       "      <td>Just have bad genetics and social skills of a ...</td>\n",
       "      <td>6fqpph</td>\n",
       "      <td>/r/Incels/comments/6fqpph/any_incels_who_arent...</td>\n",
       "    </tr>\n",
       "  </tbody>\n",
       "</table>\n",
       "</div>"
      ],
      "text/plain": [
       "   subreddit                author  \\\n",
       "17    Incels  Looks-are-everything   \n",
       "18    Incels                Drogic   \n",
       "\n",
       "                                                  url  score  \\\n",
       "17  https://www.reddit.com/r/Incels/comments/6fjsr...   49.0   \n",
       "18  https://www.reddit.com/r/Incels/comments/6fqpp...    0.0   \n",
       "\n",
       "                                                title  \\\n",
       "17  Even if you manage to get a girlfriend she can...   \n",
       "18       Any Incels Who Aren't Short Or Ugly On Here?   \n",
       "\n",
       "                                             selftext      id  \\\n",
       "17  This is another reason out of a billion that a...  6fjsrp   \n",
       "18  Just have bad genetics and social skills of a ...  6fqpph   \n",
       "\n",
       "                                            permalink  \n",
       "17  /r/Incels/comments/6fjsrp/even_if_you_manage_t...  \n",
       "18  /r/Incels/comments/6fqpph/any_incels_who_arent...  "
      ]
     },
     "execution_count": 29,
     "metadata": {},
     "output_type": "execute_result"
    }
   ],
   "source": [
    "posts[-posts.selftext.isna()].head(2)"
   ]
  },
  {
   "attachments": {},
   "cell_type": "markdown",
   "metadata": {},
   "source": [
    "The `NaN`s in the `selftext` column will be replaced by `[no_text]`."
   ]
  },
  {
   "cell_type": "code",
   "execution_count": 30,
   "metadata": {},
   "outputs": [],
   "source": [
    "posts.selftext.fillna('[no_text]', inplace=True)"
   ]
  },
  {
   "cell_type": "code",
   "execution_count": 31,
   "metadata": {},
   "outputs": [
    {
     "data": {
      "text/html": [
       "<div>\n",
       "<style scoped>\n",
       "    .dataframe tbody tr th:only-of-type {\n",
       "        vertical-align: middle;\n",
       "    }\n",
       "\n",
       "    .dataframe tbody tr th {\n",
       "        vertical-align: top;\n",
       "    }\n",
       "\n",
       "    .dataframe thead th {\n",
       "        text-align: right;\n",
       "    }\n",
       "</style>\n",
       "<table border=\"1\" class=\"dataframe\">\n",
       "  <thead>\n",
       "    <tr style=\"text-align: right;\">\n",
       "      <th></th>\n",
       "      <th>subreddit</th>\n",
       "      <th>author</th>\n",
       "      <th>url</th>\n",
       "      <th>score</th>\n",
       "      <th>title</th>\n",
       "      <th>selftext</th>\n",
       "      <th>id</th>\n",
       "      <th>permalink</th>\n",
       "    </tr>\n",
       "  </thead>\n",
       "  <tbody>\n",
       "    <tr>\n",
       "      <th>0</th>\n",
       "      <td>Incels</td>\n",
       "      <td>A_World_of_His_Own</td>\n",
       "      <td>https://i.imgur.com/B44LpE8.png</td>\n",
       "      <td>96.0</td>\n",
       "      <td>&amp;gt;mfw</td>\n",
       "      <td>[no_text]</td>\n",
       "      <td>6f1l9e</td>\n",
       "      <td>/r/Incels/comments/6f1l9e/mfw/</td>\n",
       "    </tr>\n",
       "    <tr>\n",
       "      <th>1</th>\n",
       "      <td>Incels</td>\n",
       "      <td>TheEngineer19</td>\n",
       "      <td>http://imgur.com/a/cNCiv</td>\n",
       "      <td>51.0</td>\n",
       "      <td>Lol! PM from a normie</td>\n",
       "      <td>[no_text]</td>\n",
       "      <td>6gsmfp</td>\n",
       "      <td>/r/Incels/comments/6gsmfp/lol_pm_from_a_normie/</td>\n",
       "    </tr>\n",
       "    <tr>\n",
       "      <th>2</th>\n",
       "      <td>Incels</td>\n",
       "      <td>[deleted]</td>\n",
       "      <td>http://imgur.com/3ChBiLl</td>\n",
       "      <td>161.0</td>\n",
       "      <td>cringe anarchy</td>\n",
       "      <td>[no_text]</td>\n",
       "      <td>6ggkcw</td>\n",
       "      <td>/r/Incels/comments/6ggkcw/cringe_anarchy/</td>\n",
       "    </tr>\n",
       "    <tr>\n",
       "      <th>3</th>\n",
       "      <td>Incels</td>\n",
       "      <td>DeathBeforeNormie</td>\n",
       "      <td>https://www.reddit.com/r/AskMen/comments/6k1x9...</td>\n",
       "      <td>3.0</td>\n",
       "      <td>Normie post from AskMen. First comment is suic...</td>\n",
       "      <td>[no_text]</td>\n",
       "      <td>6k7qae</td>\n",
       "      <td>/r/Incels/comments/6k7qae/normie_post_from_ask...</td>\n",
       "    </tr>\n",
       "    <tr>\n",
       "      <th>4</th>\n",
       "      <td>Incels</td>\n",
       "      <td>dontcomplain1</td>\n",
       "      <td>https://imgur.com/a/IAzHh</td>\n",
       "      <td>99.0</td>\n",
       "      <td>Went out for a walk in nature to cope, here ar...</td>\n",
       "      <td>[no_text]</td>\n",
       "      <td>6gwgr1</td>\n",
       "      <td>/r/Incels/comments/6gwgr1/went_out_for_a_walk_...</td>\n",
       "    </tr>\n",
       "    <tr>\n",
       "      <th>...</th>\n",
       "      <td>...</td>\n",
       "      <td>...</td>\n",
       "      <td>...</td>\n",
       "      <td>...</td>\n",
       "      <td>...</td>\n",
       "      <td>...</td>\n",
       "      <td>...</td>\n",
       "      <td>...</td>\n",
       "    </tr>\n",
       "    <tr>\n",
       "      <th>54218</th>\n",
       "      <td>Incels</td>\n",
       "      <td>OGezus</td>\n",
       "      <td>https://www.reddit.com/r/Incels/comments/5syjr...</td>\n",
       "      <td>1.0</td>\n",
       "      <td>tuning in</td>\n",
       "      <td>[removed]</td>\n",
       "      <td>5syjro</td>\n",
       "      <td>/r/Incels/comments/5syjro/tuning_in/</td>\n",
       "    </tr>\n",
       "    <tr>\n",
       "      <th>54219</th>\n",
       "      <td>Incels</td>\n",
       "      <td>[deleted]</td>\n",
       "      <td>https://www.reddit.com/r/Incels/comments/5wm58...</td>\n",
       "      <td>1.0</td>\n",
       "      <td>When did you realize you were a incel ?</td>\n",
       "      <td>[removed]</td>\n",
       "      <td>5wm587</td>\n",
       "      <td>/r/Incels/comments/5wm587/when_did_you_realize...</td>\n",
       "    </tr>\n",
       "    <tr>\n",
       "      <th>54220</th>\n",
       "      <td>Incels</td>\n",
       "      <td>IncelsAMA</td>\n",
       "      <td>https://www.reddit.com/r/Incels/comments/5vjwh...</td>\n",
       "      <td>1.0</td>\n",
       "      <td>Hey Incels, I am a girl and I want to help you...</td>\n",
       "      <td>[removed]</td>\n",
       "      <td>5vjwhq</td>\n",
       "      <td>/r/Incels/comments/5vjwhq/hey_incels_i_am_a_gi...</td>\n",
       "    </tr>\n",
       "    <tr>\n",
       "      <th>54221</th>\n",
       "      <td>Incels</td>\n",
       "      <td>[deleted]</td>\n",
       "      <td>https://www.reddit.com/r/Incels/comments/5ung3...</td>\n",
       "      <td>1.0</td>\n",
       "      <td>I think I'm becoming gay.</td>\n",
       "      <td>[removed]</td>\n",
       "      <td>5ung39</td>\n",
       "      <td>/r/Incels/comments/5ung39/i_think_im_becoming_...</td>\n",
       "    </tr>\n",
       "    <tr>\n",
       "      <th>54222</th>\n",
       "      <td>Incels</td>\n",
       "      <td>[deleted]</td>\n",
       "      <td>https://www.reddit.com/r/Incels/comments/5tqcz...</td>\n",
       "      <td>1.0</td>\n",
       "      <td>it's gay how murder is illegal</td>\n",
       "      <td>[removed]</td>\n",
       "      <td>5tqczk</td>\n",
       "      <td>/r/Incels/comments/5tqczk/its_gay_how_murder_i...</td>\n",
       "    </tr>\n",
       "  </tbody>\n",
       "</table>\n",
       "<p>54223 rows × 8 columns</p>\n",
       "</div>"
      ],
      "text/plain": [
       "      subreddit              author  \\\n",
       "0        Incels  A_World_of_His_Own   \n",
       "1        Incels       TheEngineer19   \n",
       "2        Incels           [deleted]   \n",
       "3        Incels   DeathBeforeNormie   \n",
       "4        Incels       dontcomplain1   \n",
       "...         ...                 ...   \n",
       "54218    Incels              OGezus   \n",
       "54219    Incels           [deleted]   \n",
       "54220    Incels           IncelsAMA   \n",
       "54221    Incels           [deleted]   \n",
       "54222    Incels           [deleted]   \n",
       "\n",
       "                                                     url  score  \\\n",
       "0                        https://i.imgur.com/B44LpE8.png   96.0   \n",
       "1                               http://imgur.com/a/cNCiv   51.0   \n",
       "2                               http://imgur.com/3ChBiLl  161.0   \n",
       "3      https://www.reddit.com/r/AskMen/comments/6k1x9...    3.0   \n",
       "4                              https://imgur.com/a/IAzHh   99.0   \n",
       "...                                                  ...    ...   \n",
       "54218  https://www.reddit.com/r/Incels/comments/5syjr...    1.0   \n",
       "54219  https://www.reddit.com/r/Incels/comments/5wm58...    1.0   \n",
       "54220  https://www.reddit.com/r/Incels/comments/5vjwh...    1.0   \n",
       "54221  https://www.reddit.com/r/Incels/comments/5ung3...    1.0   \n",
       "54222  https://www.reddit.com/r/Incels/comments/5tqcz...    1.0   \n",
       "\n",
       "                                                   title   selftext      id  \\\n",
       "0                                                &gt;mfw  [no_text]  6f1l9e   \n",
       "1                                  Lol! PM from a normie  [no_text]  6gsmfp   \n",
       "2                                         cringe anarchy  [no_text]  6ggkcw   \n",
       "3      Normie post from AskMen. First comment is suic...  [no_text]  6k7qae   \n",
       "4      Went out for a walk in nature to cope, here ar...  [no_text]  6gwgr1   \n",
       "...                                                  ...        ...     ...   \n",
       "54218                                          tuning in  [removed]  5syjro   \n",
       "54219            When did you realize you were a incel ?  [removed]  5wm587   \n",
       "54220  Hey Incels, I am a girl and I want to help you...  [removed]  5vjwhq   \n",
       "54221                          I think I'm becoming gay.  [removed]  5ung39   \n",
       "54222                     it's gay how murder is illegal  [removed]  5tqczk   \n",
       "\n",
       "                                               permalink  \n",
       "0                         /r/Incels/comments/6f1l9e/mfw/  \n",
       "1        /r/Incels/comments/6gsmfp/lol_pm_from_a_normie/  \n",
       "2              /r/Incels/comments/6ggkcw/cringe_anarchy/  \n",
       "3      /r/Incels/comments/6k7qae/normie_post_from_ask...  \n",
       "4      /r/Incels/comments/6gwgr1/went_out_for_a_walk_...  \n",
       "...                                                  ...  \n",
       "54218               /r/Incels/comments/5syjro/tuning_in/  \n",
       "54219  /r/Incels/comments/5wm587/when_did_you_realize...  \n",
       "54220  /r/Incels/comments/5vjwhq/hey_incels_i_am_a_gi...  \n",
       "54221  /r/Incels/comments/5ung39/i_think_im_becoming_...  \n",
       "54222  /r/Incels/comments/5tqczk/its_gay_how_murder_i...  \n",
       "\n",
       "[54223 rows x 8 columns]"
      ]
     },
     "execution_count": 31,
     "metadata": {},
     "output_type": "execute_result"
    }
   ],
   "source": [
    "posts"
   ]
  },
  {
   "attachments": {},
   "cell_type": "markdown",
   "metadata": {},
   "source": [
    "`permalink` doesnt contain any useful information, thus it will be dropped."
   ]
  },
  {
   "cell_type": "code",
   "execution_count": 32,
   "metadata": {},
   "outputs": [],
   "source": [
    "posts.drop(['permalink'], axis=1, inplace=True)"
   ]
  },
  {
   "cell_type": "code",
   "execution_count": 33,
   "metadata": {},
   "outputs": [
    {
     "data": {
      "text/html": [
       "<div>\n",
       "<style scoped>\n",
       "    .dataframe tbody tr th:only-of-type {\n",
       "        vertical-align: middle;\n",
       "    }\n",
       "\n",
       "    .dataframe tbody tr th {\n",
       "        vertical-align: top;\n",
       "    }\n",
       "\n",
       "    .dataframe thead th {\n",
       "        text-align: right;\n",
       "    }\n",
       "</style>\n",
       "<table border=\"1\" class=\"dataframe\">\n",
       "  <thead>\n",
       "    <tr style=\"text-align: right;\">\n",
       "      <th></th>\n",
       "      <th>subreddit</th>\n",
       "      <th>author</th>\n",
       "      <th>url</th>\n",
       "      <th>score</th>\n",
       "      <th>title</th>\n",
       "      <th>selftext</th>\n",
       "      <th>id</th>\n",
       "    </tr>\n",
       "  </thead>\n",
       "  <tbody>\n",
       "    <tr>\n",
       "      <th>0</th>\n",
       "      <td>Incels</td>\n",
       "      <td>A_World_of_His_Own</td>\n",
       "      <td>https://i.imgur.com/B44LpE8.png</td>\n",
       "      <td>96.0</td>\n",
       "      <td>&amp;gt;mfw</td>\n",
       "      <td>[no_text]</td>\n",
       "      <td>6f1l9e</td>\n",
       "    </tr>\n",
       "    <tr>\n",
       "      <th>1</th>\n",
       "      <td>Incels</td>\n",
       "      <td>TheEngineer19</td>\n",
       "      <td>http://imgur.com/a/cNCiv</td>\n",
       "      <td>51.0</td>\n",
       "      <td>Lol! PM from a normie</td>\n",
       "      <td>[no_text]</td>\n",
       "      <td>6gsmfp</td>\n",
       "    </tr>\n",
       "    <tr>\n",
       "      <th>2</th>\n",
       "      <td>Incels</td>\n",
       "      <td>[deleted]</td>\n",
       "      <td>http://imgur.com/3ChBiLl</td>\n",
       "      <td>161.0</td>\n",
       "      <td>cringe anarchy</td>\n",
       "      <td>[no_text]</td>\n",
       "      <td>6ggkcw</td>\n",
       "    </tr>\n",
       "    <tr>\n",
       "      <th>3</th>\n",
       "      <td>Incels</td>\n",
       "      <td>DeathBeforeNormie</td>\n",
       "      <td>https://www.reddit.com/r/AskMen/comments/6k1x9...</td>\n",
       "      <td>3.0</td>\n",
       "      <td>Normie post from AskMen. First comment is suic...</td>\n",
       "      <td>[no_text]</td>\n",
       "      <td>6k7qae</td>\n",
       "    </tr>\n",
       "    <tr>\n",
       "      <th>4</th>\n",
       "      <td>Incels</td>\n",
       "      <td>dontcomplain1</td>\n",
       "      <td>https://imgur.com/a/IAzHh</td>\n",
       "      <td>99.0</td>\n",
       "      <td>Went out for a walk in nature to cope, here ar...</td>\n",
       "      <td>[no_text]</td>\n",
       "      <td>6gwgr1</td>\n",
       "    </tr>\n",
       "    <tr>\n",
       "      <th>...</th>\n",
       "      <td>...</td>\n",
       "      <td>...</td>\n",
       "      <td>...</td>\n",
       "      <td>...</td>\n",
       "      <td>...</td>\n",
       "      <td>...</td>\n",
       "      <td>...</td>\n",
       "    </tr>\n",
       "    <tr>\n",
       "      <th>54218</th>\n",
       "      <td>Incels</td>\n",
       "      <td>OGezus</td>\n",
       "      <td>https://www.reddit.com/r/Incels/comments/5syjr...</td>\n",
       "      <td>1.0</td>\n",
       "      <td>tuning in</td>\n",
       "      <td>[removed]</td>\n",
       "      <td>5syjro</td>\n",
       "    </tr>\n",
       "    <tr>\n",
       "      <th>54219</th>\n",
       "      <td>Incels</td>\n",
       "      <td>[deleted]</td>\n",
       "      <td>https://www.reddit.com/r/Incels/comments/5wm58...</td>\n",
       "      <td>1.0</td>\n",
       "      <td>When did you realize you were a incel ?</td>\n",
       "      <td>[removed]</td>\n",
       "      <td>5wm587</td>\n",
       "    </tr>\n",
       "    <tr>\n",
       "      <th>54220</th>\n",
       "      <td>Incels</td>\n",
       "      <td>IncelsAMA</td>\n",
       "      <td>https://www.reddit.com/r/Incels/comments/5vjwh...</td>\n",
       "      <td>1.0</td>\n",
       "      <td>Hey Incels, I am a girl and I want to help you...</td>\n",
       "      <td>[removed]</td>\n",
       "      <td>5vjwhq</td>\n",
       "    </tr>\n",
       "    <tr>\n",
       "      <th>54221</th>\n",
       "      <td>Incels</td>\n",
       "      <td>[deleted]</td>\n",
       "      <td>https://www.reddit.com/r/Incels/comments/5ung3...</td>\n",
       "      <td>1.0</td>\n",
       "      <td>I think I'm becoming gay.</td>\n",
       "      <td>[removed]</td>\n",
       "      <td>5ung39</td>\n",
       "    </tr>\n",
       "    <tr>\n",
       "      <th>54222</th>\n",
       "      <td>Incels</td>\n",
       "      <td>[deleted]</td>\n",
       "      <td>https://www.reddit.com/r/Incels/comments/5tqcz...</td>\n",
       "      <td>1.0</td>\n",
       "      <td>it's gay how murder is illegal</td>\n",
       "      <td>[removed]</td>\n",
       "      <td>5tqczk</td>\n",
       "    </tr>\n",
       "  </tbody>\n",
       "</table>\n",
       "<p>54223 rows × 7 columns</p>\n",
       "</div>"
      ],
      "text/plain": [
       "      subreddit              author  \\\n",
       "0        Incels  A_World_of_His_Own   \n",
       "1        Incels       TheEngineer19   \n",
       "2        Incels           [deleted]   \n",
       "3        Incels   DeathBeforeNormie   \n",
       "4        Incels       dontcomplain1   \n",
       "...         ...                 ...   \n",
       "54218    Incels              OGezus   \n",
       "54219    Incels           [deleted]   \n",
       "54220    Incels           IncelsAMA   \n",
       "54221    Incels           [deleted]   \n",
       "54222    Incels           [deleted]   \n",
       "\n",
       "                                                     url  score  \\\n",
       "0                        https://i.imgur.com/B44LpE8.png   96.0   \n",
       "1                               http://imgur.com/a/cNCiv   51.0   \n",
       "2                               http://imgur.com/3ChBiLl  161.0   \n",
       "3      https://www.reddit.com/r/AskMen/comments/6k1x9...    3.0   \n",
       "4                              https://imgur.com/a/IAzHh   99.0   \n",
       "...                                                  ...    ...   \n",
       "54218  https://www.reddit.com/r/Incels/comments/5syjr...    1.0   \n",
       "54219  https://www.reddit.com/r/Incels/comments/5wm58...    1.0   \n",
       "54220  https://www.reddit.com/r/Incels/comments/5vjwh...    1.0   \n",
       "54221  https://www.reddit.com/r/Incels/comments/5ung3...    1.0   \n",
       "54222  https://www.reddit.com/r/Incels/comments/5tqcz...    1.0   \n",
       "\n",
       "                                                   title   selftext      id  \n",
       "0                                                &gt;mfw  [no_text]  6f1l9e  \n",
       "1                                  Lol! PM from a normie  [no_text]  6gsmfp  \n",
       "2                                         cringe anarchy  [no_text]  6ggkcw  \n",
       "3      Normie post from AskMen. First comment is suic...  [no_text]  6k7qae  \n",
       "4      Went out for a walk in nature to cope, here ar...  [no_text]  6gwgr1  \n",
       "...                                                  ...        ...     ...  \n",
       "54218                                          tuning in  [removed]  5syjro  \n",
       "54219            When did you realize you were a incel ?  [removed]  5wm587  \n",
       "54220  Hey Incels, I am a girl and I want to help you...  [removed]  5vjwhq  \n",
       "54221                          I think I'm becoming gay.  [removed]  5ung39  \n",
       "54222                     it's gay how murder is illegal  [removed]  5tqczk  \n",
       "\n",
       "[54223 rows x 7 columns]"
      ]
     },
     "execution_count": 33,
     "metadata": {},
     "output_type": "execute_result"
    }
   ],
   "source": [
    "posts"
   ]
  },
  {
   "attachments": {},
   "cell_type": "markdown",
   "metadata": {},
   "source": [
    "# COMMENTS"
   ]
  },
  {
   "cell_type": "code",
   "execution_count": 34,
   "metadata": {},
   "outputs": [
    {
     "data": {
      "text/html": [
       "<div>\n",
       "<style scoped>\n",
       "    .dataframe tbody tr th:only-of-type {\n",
       "        vertical-align: middle;\n",
       "    }\n",
       "\n",
       "    .dataframe tbody tr th {\n",
       "        vertical-align: top;\n",
       "    }\n",
       "\n",
       "    .dataframe thead th {\n",
       "        text-align: right;\n",
       "    }\n",
       "</style>\n",
       "<table border=\"1\" class=\"dataframe\">\n",
       "  <thead>\n",
       "    <tr style=\"text-align: right;\">\n",
       "      <th></th>\n",
       "      <th>body</th>\n",
       "      <th>score_hidden</th>\n",
       "      <th>archived</th>\n",
       "      <th>name</th>\n",
       "      <th>author</th>\n",
       "      <th>author_flair_text</th>\n",
       "      <th>downs</th>\n",
       "      <th>created_utc</th>\n",
       "      <th>subreddit_id</th>\n",
       "      <th>link_id</th>\n",
       "      <th>...</th>\n",
       "      <th>score</th>\n",
       "      <th>retrieved_on</th>\n",
       "      <th>controversiality</th>\n",
       "      <th>gilded</th>\n",
       "      <th>id</th>\n",
       "      <th>subreddit</th>\n",
       "      <th>ups</th>\n",
       "      <th>distinguished</th>\n",
       "      <th>author_flair_css_class</th>\n",
       "      <th>year_month</th>\n",
       "    </tr>\n",
       "  </thead>\n",
       "  <tbody>\n",
       "    <tr>\n",
       "      <th>0</th>\n",
       "      <td>incidentally no</td>\n",
       "      <td>NaN</td>\n",
       "      <td>NaN</td>\n",
       "      <td>NaN</td>\n",
       "      <td>little_milkee</td>\n",
       "      <td>NaN</td>\n",
       "      <td>NaN</td>\n",
       "      <td>1509602236</td>\n",
       "      <td>t5_2y2u1</td>\n",
       "      <td>t3_7a436d</td>\n",
       "      <td>...</td>\n",
       "      <td>NaN</td>\n",
       "      <td>1509602238</td>\n",
       "      <td>0</td>\n",
       "      <td>0</td>\n",
       "      <td>dp88fwg</td>\n",
       "      <td>Incels</td>\n",
       "      <td>NaN</td>\n",
       "      <td>NaN</td>\n",
       "      <td>NaN</td>\n",
       "      <td>2017-11-01 00:00:00 UTC</td>\n",
       "    </tr>\n",
       "    <tr>\n",
       "      <th>1</th>\n",
       "      <td>That's when the sexual market begins. Chads an...</td>\n",
       "      <td>NaN</td>\n",
       "      <td>NaN</td>\n",
       "      <td>NaN</td>\n",
       "      <td>BlackPill48</td>\n",
       "      <td>31yo bald manlet escortcel 卐 'Self improvement...</td>\n",
       "      <td>NaN</td>\n",
       "      <td>1509617470</td>\n",
       "      <td>t5_2y2u1</td>\n",
       "      <td>t3_7a9u7k</td>\n",
       "      <td>...</td>\n",
       "      <td>NaN</td>\n",
       "      <td>1509617471</td>\n",
       "      <td>0</td>\n",
       "      <td>0</td>\n",
       "      <td>dp8dyhw</td>\n",
       "      <td>Incels</td>\n",
       "      <td>NaN</td>\n",
       "      <td>NaN</td>\n",
       "      <td>NaN</td>\n",
       "      <td>2017-11-01 00:00:00 UTC</td>\n",
       "    </tr>\n",
       "    <tr>\n",
       "      <th>2</th>\n",
       "      <td>Definitely. If you're tall and have an imposin...</td>\n",
       "      <td>NaN</td>\n",
       "      <td>NaN</td>\n",
       "      <td>NaN</td>\n",
       "      <td>BILLXFRANK</td>\n",
       "      <td>NaN</td>\n",
       "      <td>NaN</td>\n",
       "      <td>1509666560</td>\n",
       "      <td>t5_2y2u1</td>\n",
       "      <td>t3_7ad5lb</td>\n",
       "      <td>...</td>\n",
       "      <td>NaN</td>\n",
       "      <td>1509666561</td>\n",
       "      <td>0</td>\n",
       "      <td>0</td>\n",
       "      <td>dp9jtjw</td>\n",
       "      <td>Incels</td>\n",
       "      <td>NaN</td>\n",
       "      <td>NaN</td>\n",
       "      <td>NaN</td>\n",
       "      <td>2017-11-01 00:00:00 UTC</td>\n",
       "    </tr>\n",
       "  </tbody>\n",
       "</table>\n",
       "<p>3 rows × 21 columns</p>\n",
       "</div>"
      ],
      "text/plain": [
       "                                                body  score_hidden  archived  \\\n",
       "0                                   incidentally no            NaN       NaN   \n",
       "1  That's when the sexual market begins. Chads an...           NaN       NaN   \n",
       "2  Definitely. If you're tall and have an imposin...           NaN       NaN   \n",
       "\n",
       "   name         author                                  author_flair_text  \\\n",
       "0   NaN  little_milkee                                                NaN   \n",
       "1   NaN    BlackPill48  31yo bald manlet escortcel 卐 'Self improvement...   \n",
       "2   NaN     BILLXFRANK                                                NaN   \n",
       "\n",
       "   downs  created_utc subreddit_id    link_id  ... score  retrieved_on  \\\n",
       "0    NaN   1509602236     t5_2y2u1  t3_7a436d  ...   NaN    1509602238   \n",
       "1    NaN   1509617470     t5_2y2u1  t3_7a9u7k  ...   NaN    1509617471   \n",
       "2    NaN   1509666560     t5_2y2u1  t3_7ad5lb  ...   NaN    1509666561   \n",
       "\n",
       "   controversiality  gilded       id subreddit ups  distinguished  \\\n",
       "0                 0       0  dp88fwg    Incels NaN            NaN   \n",
       "1                 0       0  dp8dyhw    Incels NaN            NaN   \n",
       "2                 0       0  dp9jtjw    Incels NaN            NaN   \n",
       "\n",
       "  author_flair_css_class               year_month  \n",
       "0                    NaN  2017-11-01 00:00:00 UTC  \n",
       "1                    NaN  2017-11-01 00:00:00 UTC  \n",
       "2                    NaN  2017-11-01 00:00:00 UTC  \n",
       "\n",
       "[3 rows x 21 columns]"
      ]
     },
     "execution_count": 34,
     "metadata": {},
     "output_type": "execute_result"
    }
   ],
   "source": [
    "comments.head(3)"
   ]
  },
  {
   "cell_type": "code",
   "execution_count": 35,
   "metadata": {},
   "outputs": [
    {
     "data": {
      "text/plain": [
       "110"
      ]
     },
     "execution_count": 35,
     "metadata": {},
     "output_type": "execute_result"
    }
   ],
   "source": [
    "comments.body.isna().sum()"
   ]
  },
  {
   "attachments": {},
   "cell_type": "markdown",
   "metadata": {},
   "source": [
    "`body` column contains the text of the comment, possible `NaN`s will be replaced by `[no_text]`."
   ]
  },
  {
   "cell_type": "code",
   "execution_count": 36,
   "metadata": {},
   "outputs": [],
   "source": [
    "comments.body.fillna('[no_text]', inplace=True)"
   ]
  },
  {
   "cell_type": "code",
   "execution_count": 39,
   "metadata": {},
   "outputs": [
    {
     "data": {
      "text/plain": [
       "(1137522, 1137522)"
      ]
     },
     "execution_count": 39,
     "metadata": {},
     "output_type": "execute_result"
    }
   ],
   "source": [
    "comments.score_hidden.isna().sum(), len(comments)"
   ]
  },
  {
   "attachments": {},
   "cell_type": "markdown",
   "metadata": {},
   "source": [
    "`score_hidden` column will be dropped."
   ]
  },
  {
   "cell_type": "code",
   "execution_count": 40,
   "metadata": {},
   "outputs": [],
   "source": [
    "comments.drop(['score_hidden'], axis=1, inplace=True)"
   ]
  },
  {
   "cell_type": "code",
   "execution_count": 41,
   "metadata": {},
   "outputs": [
    {
     "data": {
      "text/plain": [
       "(1137522, 1137522)"
      ]
     },
     "execution_count": 41,
     "metadata": {},
     "output_type": "execute_result"
    }
   ],
   "source": [
    "comments.archived.isna().sum(), len(comments)"
   ]
  },
  {
   "attachments": {},
   "cell_type": "markdown",
   "metadata": {},
   "source": [
    "Same story"
   ]
  },
  {
   "cell_type": "code",
   "execution_count": 42,
   "metadata": {},
   "outputs": [],
   "source": [
    "comments.drop(['archived'], axis=1, inplace=True)"
   ]
  },
  {
   "cell_type": "code",
   "execution_count": 43,
   "metadata": {},
   "outputs": [
    {
     "data": {
      "text/html": [
       "<div>\n",
       "<style scoped>\n",
       "    .dataframe tbody tr th:only-of-type {\n",
       "        vertical-align: middle;\n",
       "    }\n",
       "\n",
       "    .dataframe tbody tr th {\n",
       "        vertical-align: top;\n",
       "    }\n",
       "\n",
       "    .dataframe thead th {\n",
       "        text-align: right;\n",
       "    }\n",
       "</style>\n",
       "<table border=\"1\" class=\"dataframe\">\n",
       "  <thead>\n",
       "    <tr style=\"text-align: right;\">\n",
       "      <th></th>\n",
       "      <th>body</th>\n",
       "      <th>name</th>\n",
       "      <th>author</th>\n",
       "      <th>author_flair_text</th>\n",
       "      <th>downs</th>\n",
       "      <th>created_utc</th>\n",
       "      <th>subreddit_id</th>\n",
       "      <th>link_id</th>\n",
       "      <th>parent_id</th>\n",
       "      <th>score</th>\n",
       "      <th>retrieved_on</th>\n",
       "      <th>controversiality</th>\n",
       "      <th>gilded</th>\n",
       "      <th>id</th>\n",
       "      <th>subreddit</th>\n",
       "      <th>ups</th>\n",
       "      <th>distinguished</th>\n",
       "      <th>author_flair_css_class</th>\n",
       "      <th>year_month</th>\n",
       "    </tr>\n",
       "  </thead>\n",
       "  <tbody>\n",
       "    <tr>\n",
       "      <th>0</th>\n",
       "      <td>incidentally no</td>\n",
       "      <td>NaN</td>\n",
       "      <td>little_milkee</td>\n",
       "      <td>NaN</td>\n",
       "      <td>NaN</td>\n",
       "      <td>1509602236</td>\n",
       "      <td>t5_2y2u1</td>\n",
       "      <td>t3_7a436d</td>\n",
       "      <td>t1_dp7isb3</td>\n",
       "      <td>NaN</td>\n",
       "      <td>1509602238</td>\n",
       "      <td>0</td>\n",
       "      <td>0</td>\n",
       "      <td>dp88fwg</td>\n",
       "      <td>Incels</td>\n",
       "      <td>NaN</td>\n",
       "      <td>NaN</td>\n",
       "      <td>NaN</td>\n",
       "      <td>2017-11-01 00:00:00 UTC</td>\n",
       "    </tr>\n",
       "  </tbody>\n",
       "</table>\n",
       "</div>"
      ],
      "text/plain": [
       "               body  name         author author_flair_text  downs  \\\n",
       "0  incidentally no    NaN  little_milkee               NaN    NaN   \n",
       "\n",
       "   created_utc subreddit_id    link_id   parent_id  score  retrieved_on  \\\n",
       "0   1509602236     t5_2y2u1  t3_7a436d  t1_dp7isb3    NaN    1509602238   \n",
       "\n",
       "   controversiality  gilded       id subreddit  ups distinguished  \\\n",
       "0                 0       0  dp88fwg    Incels  NaN           NaN   \n",
       "\n",
       "   author_flair_css_class               year_month  \n",
       "0                     NaN  2017-11-01 00:00:00 UTC  "
      ]
     },
     "execution_count": 43,
     "metadata": {},
     "output_type": "execute_result"
    }
   ],
   "source": [
    "comments.head(1)"
   ]
  },
  {
   "cell_type": "code",
   "execution_count": 46,
   "metadata": {},
   "outputs": [
    {
     "data": {
      "text/plain": [
       "1137522"
      ]
     },
     "execution_count": 46,
     "metadata": {},
     "output_type": "execute_result"
    }
   ],
   "source": [
    "comments.name.isna().sum()"
   ]
  },
  {
   "attachments": {},
   "cell_type": "markdown",
   "metadata": {},
   "source": [
    "Same story"
   ]
  },
  {
   "cell_type": "code",
   "execution_count": 47,
   "metadata": {},
   "outputs": [],
   "source": [
    "comments.drop(['name'], axis=1, inplace=True)"
   ]
  },
  {
   "cell_type": "code",
   "execution_count": 49,
   "metadata": {},
   "outputs": [
    {
     "data": {
      "text/plain": [
       "0"
      ]
     },
     "execution_count": 49,
     "metadata": {},
     "output_type": "execute_result"
    }
   ],
   "source": [
    "comments.author.isna().sum()"
   ]
  },
  {
   "cell_type": "code",
   "execution_count": 50,
   "metadata": {},
   "outputs": [
    {
     "data": {
      "text/plain": [
       "[deleted]             252338\n",
       "AutoModerator           7973\n",
       "PM_ME_STRIPPERS         7548\n",
       "StAliaHarkonnen         7423\n",
       "kazcovic                7295\n",
       "                       ...  \n",
       "WavyWavyWaves              1\n",
       "Jaisyjaysus69              1\n",
       "blu3slime                  1\n",
       "MisterMoustache911         1\n",
       "Bibleisproslavery          1\n",
       "Name: author, Length: 36162, dtype: int64"
      ]
     },
     "execution_count": 50,
     "metadata": {},
     "output_type": "execute_result"
    }
   ],
   "source": [
    "comments.author.value_counts()"
   ]
  },
  {
   "attachments": {},
   "cell_type": "markdown",
   "metadata": {},
   "source": [
    "Lets invisitige what AutoModerator is commenting"
   ]
  },
  {
   "cell_type": "code",
   "execution_count": 57,
   "metadata": {},
   "outputs": [
    {
     "data": {
      "text/plain": [
       "\"Personality isn't really that important to most women. They often euphemize personality for muscles and a masculine face. When gangbanger [Jeremy Meeks](http://imgur.com/a/BgWbg) was released from prison for robbing and beating another boy close to death, his girlfriend married and had children with him. Meeks improved his personality so much that he later cheated on and dumped his wife with a rich billionaire heiress and didn't even feel bad about it.\\n\\n*I am a bot, and this action was performed automatically. Please [contact the moderators of this subreddit](/message/compose/?to=/r/Incels) if you have any questions or concerns.*\""
      ]
     },
     "execution_count": 57,
     "metadata": {},
     "output_type": "execute_result"
    }
   ],
   "source": [
    "comments[comments.author=='AutoModerator'].body.values[0]"
   ]
  },
  {
   "cell_type": "code",
   "execution_count": 58,
   "metadata": {},
   "outputs": [
    {
     "data": {
      "text/plain": [
       "\"'Entitled' is a fairly meaningless word that does not accurately describe most of the incels on this sub or elsewhere on the Internet. On one extreme, the word 'entitled' is used to describe men who literally believe that they should be able to force women to date them. On the other extreme, the word 'entitled' is used to describe men who are merely frustrated or sad that they can't find anyone at all to date them. This type of frustration is reasonable, since sex and romantic relationships are regarded by many as one of the most fulfilling things in life. The problem with using the word 'entitled' for both categories of men is that it lumps them together, demonizing men in the latter category by comparing them to men in the former category. If you wish to criticize our views, please be more specific than merely calling us 'entitled.'\\n\\n*I am a bot, and this action was performed automatically. Please [contact the moderators of this subreddit](/message/compose/?to=/r/Incels) if you have any questions or concerns.*\""
      ]
     },
     "execution_count": 58,
     "metadata": {},
     "output_type": "execute_result"
    }
   ],
   "source": [
    "comments[comments.author=='AutoModerator'].body.values[1]\n"
   ]
  },
  {
   "attachments": {},
   "cell_type": "markdown",
   "metadata": {},
   "source": [
    "Those comments written by AutoModerator can be useful later on, e.g. to detect if a comment is reported"
   ]
  },
  {
   "cell_type": "code",
   "execution_count": 61,
   "metadata": {},
   "outputs": [
    {
     "data": {
      "text/plain": [
       "(1137522, 1137522)"
      ]
     },
     "execution_count": 61,
     "metadata": {},
     "output_type": "execute_result"
    }
   ],
   "source": [
    "comments.downs.isna().sum(), len(comments)"
   ]
  },
  {
   "attachments": {},
   "cell_type": "markdown",
   "metadata": {},
   "source": [
    "`downs` & `ups` columns will be dropped."
   ]
  },
  {
   "cell_type": "code",
   "execution_count": 62,
   "metadata": {},
   "outputs": [],
   "source": [
    "comments.drop(['downs', 'ups'], axis=1, inplace=True)"
   ]
  },
  {
   "attachments": {},
   "cell_type": "markdown",
   "metadata": {},
   "source": [
    "`subreddit_id` can be dropped, thus it doesnt contain any useful information"
   ]
  },
  {
   "cell_type": "code",
   "execution_count": 65,
   "metadata": {},
   "outputs": [],
   "source": [
    "comments.drop(['subreddit_id'], axis=1, inplace=True)"
   ]
  },
  {
   "cell_type": "code",
   "execution_count": 68,
   "metadata": {},
   "outputs": [
    {
     "data": {
      "text/plain": [
       "742724"
      ]
     },
     "execution_count": 68,
     "metadata": {},
     "output_type": "execute_result"
    }
   ],
   "source": [
    "comments.author_flair_text.isna().sum()"
   ]
  },
  {
   "attachments": {},
   "cell_type": "markdown",
   "metadata": {},
   "source": [
    "`author_flair_css_class` containing `NaN`s will be replaced by `[no_text]`."
   ]
  },
  {
   "cell_type": "code",
   "execution_count": 75,
   "metadata": {},
   "outputs": [],
   "source": [
    "comments.author_flair_text.fillna('[no_text]', inplace=True)"
   ]
  },
  {
   "cell_type": "code",
   "execution_count": 71,
   "metadata": {},
   "outputs": [
    {
     "data": {
      "text/plain": [
       "(1137522, 1137522)"
      ]
     },
     "execution_count": 71,
     "metadata": {},
     "output_type": "execute_result"
    }
   ],
   "source": [
    "comments.author_flair_css_class.isna().sum(), len(comments)"
   ]
  },
  {
   "attachments": {},
   "cell_type": "markdown",
   "metadata": {},
   "source": [
    "`author_flair_css_class` will be dropped"
   ]
  },
  {
   "cell_type": "code",
   "execution_count": 72,
   "metadata": {},
   "outputs": [],
   "source": [
    "comments.drop(['author_flair_css_class'], axis=1, inplace=True)"
   ]
  },
  {
   "cell_type": "code",
   "execution_count": 77,
   "metadata": {},
   "outputs": [
    {
     "data": {
      "text/html": [
       "<div>\n",
       "<style scoped>\n",
       "    .dataframe tbody tr th:only-of-type {\n",
       "        vertical-align: middle;\n",
       "    }\n",
       "\n",
       "    .dataframe tbody tr th {\n",
       "        vertical-align: top;\n",
       "    }\n",
       "\n",
       "    .dataframe thead th {\n",
       "        text-align: right;\n",
       "    }\n",
       "</style>\n",
       "<table border=\"1\" class=\"dataframe\">\n",
       "  <thead>\n",
       "    <tr style=\"text-align: right;\">\n",
       "      <th></th>\n",
       "      <th>body</th>\n",
       "      <th>author</th>\n",
       "      <th>author_flair_text</th>\n",
       "      <th>created_utc</th>\n",
       "      <th>link_id</th>\n",
       "      <th>parent_id</th>\n",
       "      <th>score</th>\n",
       "      <th>retrieved_on</th>\n",
       "      <th>controversiality</th>\n",
       "      <th>gilded</th>\n",
       "      <th>id</th>\n",
       "      <th>subreddit</th>\n",
       "      <th>ups</th>\n",
       "      <th>distinguished</th>\n",
       "      <th>year_month</th>\n",
       "    </tr>\n",
       "  </thead>\n",
       "  <tbody>\n",
       "    <tr>\n",
       "      <th>0</th>\n",
       "      <td>incidentally no</td>\n",
       "      <td>little_milkee</td>\n",
       "      <td>[no_text]</td>\n",
       "      <td>1509602236</td>\n",
       "      <td>t3_7a436d</td>\n",
       "      <td>t1_dp7isb3</td>\n",
       "      <td>NaN</td>\n",
       "      <td>1509602238</td>\n",
       "      <td>0</td>\n",
       "      <td>0</td>\n",
       "      <td>dp88fwg</td>\n",
       "      <td>Incels</td>\n",
       "      <td>NaN</td>\n",
       "      <td>NaN</td>\n",
       "      <td>2017-11-01 00:00:00 UTC</td>\n",
       "    </tr>\n",
       "    <tr>\n",
       "      <th>1</th>\n",
       "      <td>That's when the sexual market begins. Chads an...</td>\n",
       "      <td>BlackPill48</td>\n",
       "      <td>31yo bald manlet escortcel 卐 'Self improvement...</td>\n",
       "      <td>1509617470</td>\n",
       "      <td>t3_7a9u7k</td>\n",
       "      <td>t3_7a9u7k</td>\n",
       "      <td>NaN</td>\n",
       "      <td>1509617471</td>\n",
       "      <td>0</td>\n",
       "      <td>0</td>\n",
       "      <td>dp8dyhw</td>\n",
       "      <td>Incels</td>\n",
       "      <td>NaN</td>\n",
       "      <td>NaN</td>\n",
       "      <td>2017-11-01 00:00:00 UTC</td>\n",
       "    </tr>\n",
       "  </tbody>\n",
       "</table>\n",
       "</div>"
      ],
      "text/plain": [
       "                                                body         author  \\\n",
       "0                                   incidentally no   little_milkee   \n",
       "1  That's when the sexual market begins. Chads an...    BlackPill48   \n",
       "\n",
       "                                   author_flair_text  created_utc    link_id  \\\n",
       "0                                          [no_text]   1509602236  t3_7a436d   \n",
       "1  31yo bald manlet escortcel 卐 'Self improvement...   1509617470  t3_7a9u7k   \n",
       "\n",
       "    parent_id  score  retrieved_on  controversiality  gilded       id  \\\n",
       "0  t1_dp7isb3    NaN    1509602238                 0       0  dp88fwg   \n",
       "1   t3_7a9u7k    NaN    1509617471                 0       0  dp8dyhw   \n",
       "\n",
       "  subreddit  ups distinguished               year_month  \n",
       "0    Incels  NaN           NaN  2017-11-01 00:00:00 UTC  \n",
       "1    Incels  NaN           NaN  2017-11-01 00:00:00 UTC  "
      ]
     },
     "execution_count": 77,
     "metadata": {},
     "output_type": "execute_result"
    }
   ],
   "source": [
    "comments.head(2)"
   ]
  },
  {
   "cell_type": "code",
   "execution_count": 79,
   "metadata": {},
   "outputs": [
    {
     "data": {
      "text/plain": [
       " 1.0      315694\n",
       " 2.0      158157\n",
       " 3.0      107197\n",
       " 4.0       53066\n",
       " 5.0       52397\n",
       "           ...  \n",
       " 128.0         1\n",
       " 358.0         1\n",
       " 300.0         1\n",
       "-71.0          1\n",
       "-127.0         1\n",
       "Name: score, Length: 321, dtype: int64"
      ]
     },
     "execution_count": 79,
     "metadata": {},
     "output_type": "execute_result"
    }
   ],
   "source": [
    "comments.score.value_counts()"
   ]
  },
  {
   "cell_type": "code",
   "execution_count": 80,
   "metadata": {},
   "outputs": [
    {
     "data": {
      "text/plain": [
       "119763"
      ]
     },
     "execution_count": 80,
     "metadata": {},
     "output_type": "execute_result"
    }
   ],
   "source": [
    "comments.score.isna().sum()"
   ]
  },
  {
   "cell_type": "code",
   "execution_count": 81,
   "metadata": {},
   "outputs": [
    {
     "data": {
      "text/html": [
       "<div>\n",
       "<style scoped>\n",
       "    .dataframe tbody tr th:only-of-type {\n",
       "        vertical-align: middle;\n",
       "    }\n",
       "\n",
       "    .dataframe tbody tr th {\n",
       "        vertical-align: top;\n",
       "    }\n",
       "\n",
       "    .dataframe thead th {\n",
       "        text-align: right;\n",
       "    }\n",
       "</style>\n",
       "<table border=\"1\" class=\"dataframe\">\n",
       "  <thead>\n",
       "    <tr style=\"text-align: right;\">\n",
       "      <th></th>\n",
       "      <th>body</th>\n",
       "      <th>author</th>\n",
       "      <th>author_flair_text</th>\n",
       "      <th>created_utc</th>\n",
       "      <th>link_id</th>\n",
       "      <th>parent_id</th>\n",
       "      <th>score</th>\n",
       "      <th>retrieved_on</th>\n",
       "      <th>controversiality</th>\n",
       "      <th>gilded</th>\n",
       "      <th>id</th>\n",
       "      <th>subreddit</th>\n",
       "      <th>ups</th>\n",
       "      <th>distinguished</th>\n",
       "      <th>year_month</th>\n",
       "    </tr>\n",
       "  </thead>\n",
       "  <tbody>\n",
       "  </tbody>\n",
       "</table>\n",
       "</div>"
      ],
      "text/plain": [
       "Empty DataFrame\n",
       "Columns: [body, author, author_flair_text, created_utc, link_id, parent_id, score, retrieved_on, controversiality, gilded, id, subreddit, ups, distinguished, year_month]\n",
       "Index: []"
      ]
     },
     "execution_count": 81,
     "metadata": {},
     "output_type": "execute_result"
    }
   ],
   "source": [
    "comments[comments.score=='0']"
   ]
  },
  {
   "attachments": {},
   "cell_type": "markdown",
   "metadata": {},
   "source": [
    "`NaN`s will be replaced by 0"
   ]
  },
  {
   "cell_type": "code",
   "execution_count": 82,
   "metadata": {},
   "outputs": [],
   "source": [
    "comments.score.fillna(0, inplace=True)"
   ]
  },
  {
   "cell_type": "code",
   "execution_count": 84,
   "metadata": {},
   "outputs": [
    {
     "data": {
      "text/html": [
       "<div>\n",
       "<style scoped>\n",
       "    .dataframe tbody tr th:only-of-type {\n",
       "        vertical-align: middle;\n",
       "    }\n",
       "\n",
       "    .dataframe tbody tr th {\n",
       "        vertical-align: top;\n",
       "    }\n",
       "\n",
       "    .dataframe thead th {\n",
       "        text-align: right;\n",
       "    }\n",
       "</style>\n",
       "<table border=\"1\" class=\"dataframe\">\n",
       "  <thead>\n",
       "    <tr style=\"text-align: right;\">\n",
       "      <th></th>\n",
       "      <th>body</th>\n",
       "      <th>author</th>\n",
       "      <th>author_flair_text</th>\n",
       "      <th>created_utc</th>\n",
       "      <th>link_id</th>\n",
       "      <th>parent_id</th>\n",
       "      <th>score</th>\n",
       "      <th>retrieved_on</th>\n",
       "      <th>controversiality</th>\n",
       "      <th>gilded</th>\n",
       "      <th>id</th>\n",
       "      <th>subreddit</th>\n",
       "      <th>ups</th>\n",
       "      <th>distinguished</th>\n",
       "      <th>year_month</th>\n",
       "    </tr>\n",
       "  </thead>\n",
       "  <tbody>\n",
       "    <tr>\n",
       "      <th>0</th>\n",
       "      <td>incidentally no</td>\n",
       "      <td>little_milkee</td>\n",
       "      <td>[no_text]</td>\n",
       "      <td>1509602236</td>\n",
       "      <td>t3_7a436d</td>\n",
       "      <td>t1_dp7isb3</td>\n",
       "      <td>0.0</td>\n",
       "      <td>1509602238</td>\n",
       "      <td>0</td>\n",
       "      <td>0</td>\n",
       "      <td>dp88fwg</td>\n",
       "      <td>Incels</td>\n",
       "      <td>NaN</td>\n",
       "      <td>NaN</td>\n",
       "      <td>2017-11-01 00:00:00 UTC</td>\n",
       "    </tr>\n",
       "    <tr>\n",
       "      <th>1</th>\n",
       "      <td>That's when the sexual market begins. Chads an...</td>\n",
       "      <td>BlackPill48</td>\n",
       "      <td>31yo bald manlet escortcel 卐 'Self improvement...</td>\n",
       "      <td>1509617470</td>\n",
       "      <td>t3_7a9u7k</td>\n",
       "      <td>t3_7a9u7k</td>\n",
       "      <td>0.0</td>\n",
       "      <td>1509617471</td>\n",
       "      <td>0</td>\n",
       "      <td>0</td>\n",
       "      <td>dp8dyhw</td>\n",
       "      <td>Incels</td>\n",
       "      <td>NaN</td>\n",
       "      <td>NaN</td>\n",
       "      <td>2017-11-01 00:00:00 UTC</td>\n",
       "    </tr>\n",
       "  </tbody>\n",
       "</table>\n",
       "</div>"
      ],
      "text/plain": [
       "                                                body         author  \\\n",
       "0                                   incidentally no   little_milkee   \n",
       "1  That's when the sexual market begins. Chads an...    BlackPill48   \n",
       "\n",
       "                                   author_flair_text  created_utc    link_id  \\\n",
       "0                                          [no_text]   1509602236  t3_7a436d   \n",
       "1  31yo bald manlet escortcel 卐 'Self improvement...   1509617470  t3_7a9u7k   \n",
       "\n",
       "    parent_id  score  retrieved_on  controversiality  gilded       id  \\\n",
       "0  t1_dp7isb3    0.0    1509602238                 0       0  dp88fwg   \n",
       "1   t3_7a9u7k    0.0    1509617471                 0       0  dp8dyhw   \n",
       "\n",
       "  subreddit  ups distinguished               year_month  \n",
       "0    Incels  NaN           NaN  2017-11-01 00:00:00 UTC  \n",
       "1    Incels  NaN           NaN  2017-11-01 00:00:00 UTC  "
      ]
     },
     "execution_count": 84,
     "metadata": {},
     "output_type": "execute_result"
    }
   ],
   "source": [
    "comments.head(2)"
   ]
  },
  {
   "attachments": {},
   "cell_type": "markdown",
   "metadata": {},
   "source": [
    "both `created_utc` and `retrieved_on` need to be cast as timestamps to ensure their ability to analyzed."
   ]
  },
  {
   "cell_type": "code",
   "execution_count": 92,
   "metadata": {},
   "outputs": [],
   "source": [
    "from datetime import datetime\n",
    "\n",
    "comments.created_utc = comments.created_utc.apply(lambda x: datetime.fromtimestamp(x).isoformat())\n",
    "comments.retrieved_on = comments.retrieved_on.apply(lambda x: datetime.fromtimestamp(x).isoformat())"
   ]
  },
  {
   "cell_type": "code",
   "execution_count": 98,
   "metadata": {},
   "outputs": [
    {
     "data": {
      "text/html": [
       "<div>\n",
       "<style scoped>\n",
       "    .dataframe tbody tr th:only-of-type {\n",
       "        vertical-align: middle;\n",
       "    }\n",
       "\n",
       "    .dataframe tbody tr th {\n",
       "        vertical-align: top;\n",
       "    }\n",
       "\n",
       "    .dataframe thead th {\n",
       "        text-align: right;\n",
       "    }\n",
       "</style>\n",
       "<table border=\"1\" class=\"dataframe\">\n",
       "  <thead>\n",
       "    <tr style=\"text-align: right;\">\n",
       "      <th></th>\n",
       "      <th>body</th>\n",
       "      <th>author</th>\n",
       "      <th>author_flair_text</th>\n",
       "      <th>created_utc</th>\n",
       "      <th>link_id</th>\n",
       "      <th>parent_id</th>\n",
       "      <th>score</th>\n",
       "      <th>retrieved_on</th>\n",
       "      <th>controversiality</th>\n",
       "      <th>gilded</th>\n",
       "      <th>id</th>\n",
       "      <th>subreddit</th>\n",
       "      <th>distinguished</th>\n",
       "      <th>year_month</th>\n",
       "    </tr>\n",
       "  </thead>\n",
       "  <tbody>\n",
       "    <tr>\n",
       "      <th>0</th>\n",
       "      <td>incidentally no</td>\n",
       "      <td>little_milkee</td>\n",
       "      <td>[no_text]</td>\n",
       "      <td>2017-11-02T06:57:16</td>\n",
       "      <td>t3_7a436d</td>\n",
       "      <td>t1_dp7isb3</td>\n",
       "      <td>0.0</td>\n",
       "      <td>2017-11-02T06:57:18</td>\n",
       "      <td>0</td>\n",
       "      <td>0</td>\n",
       "      <td>dp88fwg</td>\n",
       "      <td>Incels</td>\n",
       "      <td>NaN</td>\n",
       "      <td>2017-11-01 00:00:00 UTC</td>\n",
       "    </tr>\n",
       "    <tr>\n",
       "      <th>1</th>\n",
       "      <td>That's when the sexual market begins. Chads an...</td>\n",
       "      <td>BlackPill48</td>\n",
       "      <td>31yo bald manlet escortcel 卐 'Self improvement...</td>\n",
       "      <td>2017-11-02T11:11:10</td>\n",
       "      <td>t3_7a9u7k</td>\n",
       "      <td>t3_7a9u7k</td>\n",
       "      <td>0.0</td>\n",
       "      <td>2017-11-02T11:11:11</td>\n",
       "      <td>0</td>\n",
       "      <td>0</td>\n",
       "      <td>dp8dyhw</td>\n",
       "      <td>Incels</td>\n",
       "      <td>NaN</td>\n",
       "      <td>2017-11-01 00:00:00 UTC</td>\n",
       "    </tr>\n",
       "  </tbody>\n",
       "</table>\n",
       "</div>"
      ],
      "text/plain": [
       "                                                body         author  \\\n",
       "0                                   incidentally no   little_milkee   \n",
       "1  That's when the sexual market begins. Chads an...    BlackPill48   \n",
       "\n",
       "                                   author_flair_text          created_utc  \\\n",
       "0                                          [no_text]  2017-11-02T06:57:16   \n",
       "1  31yo bald manlet escortcel 卐 'Self improvement...  2017-11-02T11:11:10   \n",
       "\n",
       "     link_id   parent_id  score         retrieved_on  controversiality  \\\n",
       "0  t3_7a436d  t1_dp7isb3    0.0  2017-11-02T06:57:18                 0   \n",
       "1  t3_7a9u7k   t3_7a9u7k    0.0  2017-11-02T11:11:11                 0   \n",
       "\n",
       "   gilded       id subreddit distinguished               year_month  \n",
       "0       0  dp88fwg    Incels           NaN  2017-11-01 00:00:00 UTC  \n",
       "1       0  dp8dyhw    Incels           NaN  2017-11-01 00:00:00 UTC  "
      ]
     },
     "execution_count": 98,
     "metadata": {},
     "output_type": "execute_result"
    }
   ],
   "source": [
    "comments.head(2)"
   ]
  },
  {
   "cell_type": "code",
   "execution_count": 88,
   "metadata": {},
   "outputs": [
    {
     "data": {
      "text/plain": [
       "0    1102927\n",
       "1      34595\n",
       "Name: controversiality, dtype: int64"
      ]
     },
     "execution_count": 88,
     "metadata": {},
     "output_type": "execute_result"
    }
   ],
   "source": [
    "comments.controversiality.value_counts()"
   ]
  },
  {
   "cell_type": "code",
   "execution_count": 96,
   "metadata": {},
   "outputs": [
    {
     "data": {
      "text/plain": [
       "0    1137478\n",
       "1         44\n",
       "Name: gilded, dtype: int64"
      ]
     },
     "execution_count": 96,
     "metadata": {},
     "output_type": "execute_result"
    }
   ],
   "source": [
    "comments.gilded.value_counts()"
   ]
  },
  {
   "cell_type": "code",
   "execution_count": 99,
   "metadata": {},
   "outputs": [],
   "source": [
    "comments.drop(['year_month'], axis=1, inplace=True)"
   ]
  },
  {
   "cell_type": "code",
   "execution_count": 101,
   "metadata": {},
   "outputs": [
    {
     "data": {
      "text/html": [
       "<div>\n",
       "<style scoped>\n",
       "    .dataframe tbody tr th:only-of-type {\n",
       "        vertical-align: middle;\n",
       "    }\n",
       "\n",
       "    .dataframe tbody tr th {\n",
       "        vertical-align: top;\n",
       "    }\n",
       "\n",
       "    .dataframe thead th {\n",
       "        text-align: right;\n",
       "    }\n",
       "</style>\n",
       "<table border=\"1\" class=\"dataframe\">\n",
       "  <thead>\n",
       "    <tr style=\"text-align: right;\">\n",
       "      <th></th>\n",
       "      <th>body</th>\n",
       "      <th>author</th>\n",
       "      <th>author_flair_text</th>\n",
       "      <th>created_utc</th>\n",
       "      <th>link_id</th>\n",
       "      <th>parent_id</th>\n",
       "      <th>score</th>\n",
       "      <th>retrieved_on</th>\n",
       "      <th>controversiality</th>\n",
       "      <th>gilded</th>\n",
       "      <th>id</th>\n",
       "      <th>subreddit</th>\n",
       "      <th>distinguished</th>\n",
       "    </tr>\n",
       "  </thead>\n",
       "  <tbody>\n",
       "    <tr>\n",
       "      <th>0</th>\n",
       "      <td>incidentally no</td>\n",
       "      <td>little_milkee</td>\n",
       "      <td>[no_text]</td>\n",
       "      <td>2017-11-02T06:57:16</td>\n",
       "      <td>t3_7a436d</td>\n",
       "      <td>t1_dp7isb3</td>\n",
       "      <td>0.0</td>\n",
       "      <td>2017-11-02T06:57:18</td>\n",
       "      <td>0</td>\n",
       "      <td>0</td>\n",
       "      <td>dp88fwg</td>\n",
       "      <td>Incels</td>\n",
       "      <td>NaN</td>\n",
       "    </tr>\n",
       "    <tr>\n",
       "      <th>1</th>\n",
       "      <td>That's when the sexual market begins. Chads an...</td>\n",
       "      <td>BlackPill48</td>\n",
       "      <td>31yo bald manlet escortcel 卐 'Self improvement...</td>\n",
       "      <td>2017-11-02T11:11:10</td>\n",
       "      <td>t3_7a9u7k</td>\n",
       "      <td>t3_7a9u7k</td>\n",
       "      <td>0.0</td>\n",
       "      <td>2017-11-02T11:11:11</td>\n",
       "      <td>0</td>\n",
       "      <td>0</td>\n",
       "      <td>dp8dyhw</td>\n",
       "      <td>Incels</td>\n",
       "      <td>NaN</td>\n",
       "    </tr>\n",
       "    <tr>\n",
       "      <th>2</th>\n",
       "      <td>Definitely. If you're tall and have an imposin...</td>\n",
       "      <td>BILLXFRANK</td>\n",
       "      <td>[no_text]</td>\n",
       "      <td>2017-11-03T00:49:20</td>\n",
       "      <td>t3_7ad5lb</td>\n",
       "      <td>t1_dp9ivus</td>\n",
       "      <td>0.0</td>\n",
       "      <td>2017-11-03T00:49:21</td>\n",
       "      <td>0</td>\n",
       "      <td>0</td>\n",
       "      <td>dp9jtjw</td>\n",
       "      <td>Incels</td>\n",
       "      <td>NaN</td>\n",
       "    </tr>\n",
       "    <tr>\n",
       "      <th>3</th>\n",
       "      <td>cope.</td>\n",
       "      <td>PM_ME_STRIPPERS</td>\n",
       "      <td>Subhuman ugly piece of shit that shouldnt exist</td>\n",
       "      <td>2017-11-02T16:34:07</td>\n",
       "      <td>t3_7aanly</td>\n",
       "      <td>t1_dp8gw12</td>\n",
       "      <td>0.0</td>\n",
       "      <td>2017-11-02T16:34:09</td>\n",
       "      <td>0</td>\n",
       "      <td>0</td>\n",
       "      <td>dp8r4o7</td>\n",
       "      <td>Incels</td>\n",
       "      <td>NaN</td>\n",
       "    </tr>\n",
       "    <tr>\n",
       "      <th>4</th>\n",
       "      <td>We know why. They consented in exchange for ca...</td>\n",
       "      <td>itsabsolutelyover</td>\n",
       "      <td>Deuteronomy 22:21</td>\n",
       "      <td>2017-11-02T00:21:19</td>\n",
       "      <td>t3_7a7e63</td>\n",
       "      <td>t3_7a7e63</td>\n",
       "      <td>0.0</td>\n",
       "      <td>2017-11-02T00:23:23</td>\n",
       "      <td>0</td>\n",
       "      <td>0</td>\n",
       "      <td>dp7pgca</td>\n",
       "      <td>Incels</td>\n",
       "      <td>NaN</td>\n",
       "    </tr>\n",
       "  </tbody>\n",
       "</table>\n",
       "</div>"
      ],
      "text/plain": [
       "                                                body             author  \\\n",
       "0                                   incidentally no       little_milkee   \n",
       "1  That's when the sexual market begins. Chads an...        BlackPill48   \n",
       "2  Definitely. If you're tall and have an imposin...         BILLXFRANK   \n",
       "3                                              cope.    PM_ME_STRIPPERS   \n",
       "4  We know why. They consented in exchange for ca...  itsabsolutelyover   \n",
       "\n",
       "                                   author_flair_text          created_utc  \\\n",
       "0                                          [no_text]  2017-11-02T06:57:16   \n",
       "1  31yo bald manlet escortcel 卐 'Self improvement...  2017-11-02T11:11:10   \n",
       "2                                          [no_text]  2017-11-03T00:49:20   \n",
       "3    Subhuman ugly piece of shit that shouldnt exist  2017-11-02T16:34:07   \n",
       "4                                  Deuteronomy 22:21  2017-11-02T00:21:19   \n",
       "\n",
       "     link_id   parent_id  score         retrieved_on  controversiality  \\\n",
       "0  t3_7a436d  t1_dp7isb3    0.0  2017-11-02T06:57:18                 0   \n",
       "1  t3_7a9u7k   t3_7a9u7k    0.0  2017-11-02T11:11:11                 0   \n",
       "2  t3_7ad5lb  t1_dp9ivus    0.0  2017-11-03T00:49:21                 0   \n",
       "3  t3_7aanly  t1_dp8gw12    0.0  2017-11-02T16:34:09                 0   \n",
       "4  t3_7a7e63   t3_7a7e63    0.0  2017-11-02T00:23:23                 0   \n",
       "\n",
       "   gilded       id subreddit distinguished  \n",
       "0       0  dp88fwg    Incels           NaN  \n",
       "1       0  dp8dyhw    Incels           NaN  \n",
       "2       0  dp9jtjw    Incels           NaN  \n",
       "3       0  dp8r4o7    Incels           NaN  \n",
       "4       0  dp7pgca    Incels           NaN  "
      ]
     },
     "execution_count": 101,
     "metadata": {},
     "output_type": "execute_result"
    }
   ],
   "source": [
    "comments.head()"
   ]
  },
  {
   "cell_type": "code",
   "execution_count": 103,
   "metadata": {},
   "outputs": [
    {
     "data": {
      "text/plain": [
       "(1129404, 1137522)"
      ]
     },
     "execution_count": 103,
     "metadata": {},
     "output_type": "execute_result"
    }
   ],
   "source": [
    "comments.distinguished.isna().sum(), len(comments)"
   ]
  },
  {
   "cell_type": "code",
   "execution_count": 104,
   "metadata": {},
   "outputs": [],
   "source": [
    "comments.drop(['distinguished'], axis=1, inplace=True)"
   ]
  },
  {
   "cell_type": "code",
   "execution_count": 105,
   "metadata": {},
   "outputs": [
    {
     "data": {
      "text/html": [
       "<div>\n",
       "<style scoped>\n",
       "    .dataframe tbody tr th:only-of-type {\n",
       "        vertical-align: middle;\n",
       "    }\n",
       "\n",
       "    .dataframe tbody tr th {\n",
       "        vertical-align: top;\n",
       "    }\n",
       "\n",
       "    .dataframe thead th {\n",
       "        text-align: right;\n",
       "    }\n",
       "</style>\n",
       "<table border=\"1\" class=\"dataframe\">\n",
       "  <thead>\n",
       "    <tr style=\"text-align: right;\">\n",
       "      <th></th>\n",
       "      <th>body</th>\n",
       "      <th>author</th>\n",
       "      <th>author_flair_text</th>\n",
       "      <th>created_utc</th>\n",
       "      <th>link_id</th>\n",
       "      <th>parent_id</th>\n",
       "      <th>score</th>\n",
       "      <th>retrieved_on</th>\n",
       "      <th>controversiality</th>\n",
       "      <th>gilded</th>\n",
       "      <th>id</th>\n",
       "      <th>subreddit</th>\n",
       "    </tr>\n",
       "  </thead>\n",
       "  <tbody>\n",
       "    <tr>\n",
       "      <th>0</th>\n",
       "      <td>incidentally no</td>\n",
       "      <td>little_milkee</td>\n",
       "      <td>[no_text]</td>\n",
       "      <td>2017-11-02T06:57:16</td>\n",
       "      <td>t3_7a436d</td>\n",
       "      <td>t1_dp7isb3</td>\n",
       "      <td>0.0</td>\n",
       "      <td>2017-11-02T06:57:18</td>\n",
       "      <td>0</td>\n",
       "      <td>0</td>\n",
       "      <td>dp88fwg</td>\n",
       "      <td>Incels</td>\n",
       "    </tr>\n",
       "    <tr>\n",
       "      <th>1</th>\n",
       "      <td>That's when the sexual market begins. Chads an...</td>\n",
       "      <td>BlackPill48</td>\n",
       "      <td>31yo bald manlet escortcel 卐 'Self improvement...</td>\n",
       "      <td>2017-11-02T11:11:10</td>\n",
       "      <td>t3_7a9u7k</td>\n",
       "      <td>t3_7a9u7k</td>\n",
       "      <td>0.0</td>\n",
       "      <td>2017-11-02T11:11:11</td>\n",
       "      <td>0</td>\n",
       "      <td>0</td>\n",
       "      <td>dp8dyhw</td>\n",
       "      <td>Incels</td>\n",
       "    </tr>\n",
       "    <tr>\n",
       "      <th>2</th>\n",
       "      <td>Definitely. If you're tall and have an imposin...</td>\n",
       "      <td>BILLXFRANK</td>\n",
       "      <td>[no_text]</td>\n",
       "      <td>2017-11-03T00:49:20</td>\n",
       "      <td>t3_7ad5lb</td>\n",
       "      <td>t1_dp9ivus</td>\n",
       "      <td>0.0</td>\n",
       "      <td>2017-11-03T00:49:21</td>\n",
       "      <td>0</td>\n",
       "      <td>0</td>\n",
       "      <td>dp9jtjw</td>\n",
       "      <td>Incels</td>\n",
       "    </tr>\n",
       "    <tr>\n",
       "      <th>3</th>\n",
       "      <td>cope.</td>\n",
       "      <td>PM_ME_STRIPPERS</td>\n",
       "      <td>Subhuman ugly piece of shit that shouldnt exist</td>\n",
       "      <td>2017-11-02T16:34:07</td>\n",
       "      <td>t3_7aanly</td>\n",
       "      <td>t1_dp8gw12</td>\n",
       "      <td>0.0</td>\n",
       "      <td>2017-11-02T16:34:09</td>\n",
       "      <td>0</td>\n",
       "      <td>0</td>\n",
       "      <td>dp8r4o7</td>\n",
       "      <td>Incels</td>\n",
       "    </tr>\n",
       "    <tr>\n",
       "      <th>4</th>\n",
       "      <td>We know why. They consented in exchange for ca...</td>\n",
       "      <td>itsabsolutelyover</td>\n",
       "      <td>Deuteronomy 22:21</td>\n",
       "      <td>2017-11-02T00:21:19</td>\n",
       "      <td>t3_7a7e63</td>\n",
       "      <td>t3_7a7e63</td>\n",
       "      <td>0.0</td>\n",
       "      <td>2017-11-02T00:23:23</td>\n",
       "      <td>0</td>\n",
       "      <td>0</td>\n",
       "      <td>dp7pgca</td>\n",
       "      <td>Incels</td>\n",
       "    </tr>\n",
       "    <tr>\n",
       "      <th>...</th>\n",
       "      <td>...</td>\n",
       "      <td>...</td>\n",
       "      <td>...</td>\n",
       "      <td>...</td>\n",
       "      <td>...</td>\n",
       "      <td>...</td>\n",
       "      <td>...</td>\n",
       "      <td>...</td>\n",
       "      <td>...</td>\n",
       "      <td>...</td>\n",
       "      <td>...</td>\n",
       "      <td>...</td>\n",
       "    </tr>\n",
       "    <tr>\n",
       "      <th>1137517</th>\n",
       "      <td>It's better than never having anything\\n\\nThat...</td>\n",
       "      <td>whywouldanyone</td>\n",
       "      <td>[no_text]</td>\n",
       "      <td>2016-08-24T05:27:47</td>\n",
       "      <td>t3_4z7ycs</td>\n",
       "      <td>t1_d6u7l4z</td>\n",
       "      <td>-2.0</td>\n",
       "      <td>2016-09-11T07:03:03</td>\n",
       "      <td>0</td>\n",
       "      <td>0</td>\n",
       "      <td>d6u7xry</td>\n",
       "      <td>Incels</td>\n",
       "    </tr>\n",
       "    <tr>\n",
       "      <th>1137518</th>\n",
       "      <td>&amp;gt; Yes, some kids did bully me, harras me, r...</td>\n",
       "      <td>azavii</td>\n",
       "      <td>[no_text]</td>\n",
       "      <td>2016-08-24T21:07:41</td>\n",
       "      <td>t3_4zdr5u</td>\n",
       "      <td>t1_d6uyru1</td>\n",
       "      <td>-1.0</td>\n",
       "      <td>2016-09-11T10:00:53</td>\n",
       "      <td>1</td>\n",
       "      <td>0</td>\n",
       "      <td>d6v131t</td>\n",
       "      <td>Incels</td>\n",
       "    </tr>\n",
       "    <tr>\n",
       "      <th>1137519</th>\n",
       "      <td>Thanks for your response (not /s).</td>\n",
       "      <td>backfmyb</td>\n",
       "      <td>[no_text]</td>\n",
       "      <td>2016-08-21T02:53:39</td>\n",
       "      <td>t3_4yrofw</td>\n",
       "      <td>t1_d6q10eo</td>\n",
       "      <td>-1.0</td>\n",
       "      <td>2016-09-10T15:40:06</td>\n",
       "      <td>1</td>\n",
       "      <td>0</td>\n",
       "      <td>d6q1cfh</td>\n",
       "      <td>Incels</td>\n",
       "    </tr>\n",
       "    <tr>\n",
       "      <th>1137520</th>\n",
       "      <td>[deleted]</td>\n",
       "      <td>[deleted]</td>\n",
       "      <td>[no_text]</td>\n",
       "      <td>2016-08-04T18:26:23</td>\n",
       "      <td>t3_4w3s3b</td>\n",
       "      <td>t1_d642pxp</td>\n",
       "      <td>-1.0</td>\n",
       "      <td>2016-09-07T05:42:23</td>\n",
       "      <td>0</td>\n",
       "      <td>0</td>\n",
       "      <td>d643c5x</td>\n",
       "      <td>Incels</td>\n",
       "    </tr>\n",
       "    <tr>\n",
       "      <th>1137521</th>\n",
       "      <td>[deleted]</td>\n",
       "      <td>[deleted]</td>\n",
       "      <td>[no_text]</td>\n",
       "      <td>2016-08-18T00:24:52</td>\n",
       "      <td>t3_4y88se</td>\n",
       "      <td>t3_4y88se</td>\n",
       "      <td>-1.0</td>\n",
       "      <td>2016-09-10T00:56:14</td>\n",
       "      <td>0</td>\n",
       "      <td>0</td>\n",
       "      <td>d6ltavq</td>\n",
       "      <td>Incels</td>\n",
       "    </tr>\n",
       "  </tbody>\n",
       "</table>\n",
       "<p>1137522 rows × 12 columns</p>\n",
       "</div>"
      ],
      "text/plain": [
       "                                                      body             author  \\\n",
       "0                                         incidentally no       little_milkee   \n",
       "1        That's when the sexual market begins. Chads an...        BlackPill48   \n",
       "2        Definitely. If you're tall and have an imposin...         BILLXFRANK   \n",
       "3                                                    cope.    PM_ME_STRIPPERS   \n",
       "4        We know why. They consented in exchange for ca...  itsabsolutelyover   \n",
       "...                                                    ...                ...   \n",
       "1137517  It's better than never having anything\\n\\nThat...     whywouldanyone   \n",
       "1137518  &gt; Yes, some kids did bully me, harras me, r...             azavii   \n",
       "1137519                 Thanks for your response (not /s).           backfmyb   \n",
       "1137520                                          [deleted]          [deleted]   \n",
       "1137521                                          [deleted]          [deleted]   \n",
       "\n",
       "                                         author_flair_text  \\\n",
       "0                                                [no_text]   \n",
       "1        31yo bald manlet escortcel 卐 'Self improvement...   \n",
       "2                                                [no_text]   \n",
       "3          Subhuman ugly piece of shit that shouldnt exist   \n",
       "4                                        Deuteronomy 22:21   \n",
       "...                                                    ...   \n",
       "1137517                                          [no_text]   \n",
       "1137518                                          [no_text]   \n",
       "1137519                                          [no_text]   \n",
       "1137520                                          [no_text]   \n",
       "1137521                                          [no_text]   \n",
       "\n",
       "                 created_utc    link_id   parent_id  score  \\\n",
       "0        2017-11-02T06:57:16  t3_7a436d  t1_dp7isb3    0.0   \n",
       "1        2017-11-02T11:11:10  t3_7a9u7k   t3_7a9u7k    0.0   \n",
       "2        2017-11-03T00:49:20  t3_7ad5lb  t1_dp9ivus    0.0   \n",
       "3        2017-11-02T16:34:07  t3_7aanly  t1_dp8gw12    0.0   \n",
       "4        2017-11-02T00:21:19  t3_7a7e63   t3_7a7e63    0.0   \n",
       "...                      ...        ...         ...    ...   \n",
       "1137517  2016-08-24T05:27:47  t3_4z7ycs  t1_d6u7l4z   -2.0   \n",
       "1137518  2016-08-24T21:07:41  t3_4zdr5u  t1_d6uyru1   -1.0   \n",
       "1137519  2016-08-21T02:53:39  t3_4yrofw  t1_d6q10eo   -1.0   \n",
       "1137520  2016-08-04T18:26:23  t3_4w3s3b  t1_d642pxp   -1.0   \n",
       "1137521  2016-08-18T00:24:52  t3_4y88se   t3_4y88se   -1.0   \n",
       "\n",
       "                retrieved_on  controversiality  gilded       id subreddit  \n",
       "0        2017-11-02T06:57:18                 0       0  dp88fwg    Incels  \n",
       "1        2017-11-02T11:11:11                 0       0  dp8dyhw    Incels  \n",
       "2        2017-11-03T00:49:21                 0       0  dp9jtjw    Incels  \n",
       "3        2017-11-02T16:34:09                 0       0  dp8r4o7    Incels  \n",
       "4        2017-11-02T00:23:23                 0       0  dp7pgca    Incels  \n",
       "...                      ...               ...     ...      ...       ...  \n",
       "1137517  2016-09-11T07:03:03                 0       0  d6u7xry    Incels  \n",
       "1137518  2016-09-11T10:00:53                 1       0  d6v131t    Incels  \n",
       "1137519  2016-09-10T15:40:06                 1       0  d6q1cfh    Incels  \n",
       "1137520  2016-09-07T05:42:23                 0       0  d643c5x    Incels  \n",
       "1137521  2016-09-10T00:56:14                 0       0  d6ltavq    Incels  \n",
       "\n",
       "[1137522 rows x 12 columns]"
      ]
     },
     "execution_count": 105,
     "metadata": {},
     "output_type": "execute_result"
    }
   ],
   "source": [
    "comments"
   ]
  }
 ],
 "metadata": {
  "kernelspec": {
   "display_name": "Python 3",
   "language": "python",
   "name": "python3"
  },
  "language_info": {
   "codemirror_mode": {
    "name": "ipython",
    "version": 3
   },
   "file_extension": ".py",
   "mimetype": "text/x-python",
   "name": "python",
   "nbconvert_exporter": "python",
   "pygments_lexer": "ipython3",
   "version": "3.8.10"
  },
  "orig_nbformat": 4
 },
 "nbformat": 4,
 "nbformat_minor": 2
}
